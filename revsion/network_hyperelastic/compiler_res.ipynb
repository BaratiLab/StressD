{
 "cells": [
  {
   "cell_type": "code",
   "execution_count": 1,
   "metadata": {},
   "outputs": [],
   "source": [
    "import glob2\n",
    "import h5py\n",
    "import numpy as np\n",
    "import matplotlib.pyplot as plt\n",
    "import seaborn as sns\n",
    "from tqdm import tqdm\n",
    "import glob\n",
    "from sklearn.metrics import mean_absolute_error\n",
    "from sklearn.metrics import mean_squared_error"
   ]
  },
  {
   "cell_type": "code",
   "execution_count": 2,
   "metadata": {},
   "outputs": [],
   "source": [
    "def unnormalize(x):\n",
    "\n",
    "    unx=(x+1)/2\n",
    "\n",
    "    unx[unx>0.999]=1\n",
    "    unx[unx<0.0001]=0\n",
    "\n",
    "    #rescale to 0-1\n",
    "    return unx\n",
    "\n",
    "\n",
    "def re_scale(x,mxmn):\n",
    "\n",
    "    #x: shape bX1X256X256\n",
    "    #mxmn: maximum minimum values shape bX2\n",
    "\n",
    "    mx=mxmn[:,0]\n",
    "    mn=mxmn[:,1]\n",
    "\n",
    "    mx=mx.reshape(-1,1,1,1)\n",
    "    mn=mn.reshape(-1,1,1,1)\n",
    "\n",
    "    mn[mn<0.0001]=0\n",
    "    mx[mx<0.0001]=0\n",
    "\n",
    "    x=x*(mx-mn)+mn\n",
    "\n",
    "    return x"
   ]
  },
  {
   "cell_type": "code",
   "execution_count": 3,
   "metadata": {},
   "outputs": [],
   "source": [
    "# file_list=[\n",
    "#     [\"./og_data_seed31/ddpm_500/run1/**.npy\",\n",
    "#     \"./og_data_seed31/ddpm_500/run2/**.npy\",\n",
    "#     \"./og_data_seed31/ddpm_500/run3/**.npy\"],\n",
    "#     [\"./og_data_seed31/ddpm_250/run1/**.npy\",\n",
    "#     \"./og_data_seed31/ddpm_250/run2/**.npy\",\n",
    "#     \"./og_data_seed31/ddpm_250/run3/**.npy\"],\n",
    "#     [\"./og_data_seed31/ddpm_100/run1/**.npy\",\n",
    "#     \"./og_data_seed31/ddpm_100/run2/**.npy\",\n",
    "#     \"./og_data_seed31/ddpm_100/run3/**.npy\"],\n",
    "#     [\"./og_data_seed31/ddpm_50/run1/**.npy\",\n",
    "#     \"./og_data_seed31/ddpm_50/run2/**.npy\",\n",
    "#     \"./og_data_seed31/ddpm_50/run3/**.npy\"],\n",
    "# ]\n",
    "\n",
    "file_list=[\n",
    "    [\"./preds_res/ddpm_500/run1/**.npy\",\n",
    "    \"./preds_res/ddpm_500/run2/**.npy\",\n",
    "    \"./preds_res/ddpm_500/run3/**.npy\"],\n",
    "    [\"./preds_res/ddpm_250/run1/**.npy\",\n",
    "    \"./preds_res/ddpm_250/run2/**.npy\",\n",
    "    \"./preds_res/ddpm_250/run3/**.npy\"],\n",
    "    [\"./preds_res/ddpm_100/run1/**.npy\",\n",
    "    \"./preds_res/ddpm_100/run2/**.npy\",\n",
    "    \"./preds_res/ddpm_100/run3/**.npy\"],\n",
    "    [\"./preds_res/ddpm_50/run1/**.npy\",\n",
    "    \"./preds_res/ddpm_50/run2/**.npy\",\n",
    "    \"./preds_res/ddpm_50/run3/**.npy\"],\n",
    "]\n"
   ]
  },
  {
   "attachments": {},
   "cell_type": "markdown",
   "metadata": {},
   "source": [
    "# Create HDFs"
   ]
  },
  {
   "cell_type": "code",
   "execution_count": 4,
   "metadata": {},
   "outputs": [
    {
     "name": "stdout",
     "output_type": "stream",
     "text": [
      "['./preds_res/ddpm_500/run1/**.npy', './preds_res/ddpm_500/run2/**.npy', './preds_res/ddpm_500/run3/**.npy']\n",
      "ddpm_500\n",
      "0\n"
     ]
    },
    {
     "name": "stderr",
     "output_type": "stream",
     "text": [
      "100%|██████████| 10/10 [00:08<00:00,  1.17it/s]\n",
      "/tmp/ipykernel_108641/710582652.py:33: VisibleDeprecationWarning: Creating an ndarray from ragged nested sequences (which is a list-or-tuple of lists-or-tuples-or ndarrays with different lengths or shapes) is deprecated. If you meant to do this, you must specify 'dtype=object' when creating the ndarray.\n",
      "  pred_s_list_runs=np.array(pred_s_list_runs)\n",
      "/tmp/ipykernel_108641/710582652.py:34: VisibleDeprecationWarning: Creating an ndarray from ragged nested sequences (which is a list-or-tuple of lists-or-tuples-or ndarrays with different lengths or shapes) is deprecated. If you meant to do this, you must specify 'dtype=object' when creating the ndarray.\n",
      "  target_s_list_runs=np.array(target_s_list_runs)\n"
     ]
    },
    {
     "name": "stdout",
     "output_type": "stream",
     "text": [
      "<KeysViewHDF5 ['pred_s_runs_0', 'target_s_runs_0']>\n",
      "1\n"
     ]
    },
    {
     "name": "stderr",
     "output_type": "stream",
     "text": [
      "100%|██████████| 10/10 [00:07<00:00,  1.25it/s]\n"
     ]
    },
    {
     "name": "stdout",
     "output_type": "stream",
     "text": [
      "<KeysViewHDF5 ['pred_s_runs_0', 'pred_s_runs_1', 'target_s_runs_0', 'target_s_runs_1']>\n",
      "2\n"
     ]
    },
    {
     "name": "stderr",
     "output_type": "stream",
     "text": [
      "100%|██████████| 10/10 [00:12<00:00,  1.27s/it]\n"
     ]
    },
    {
     "name": "stdout",
     "output_type": "stream",
     "text": [
      "<KeysViewHDF5 ['pred_s_runs_0', 'pred_s_runs_1', 'pred_s_runs_2', 'target_s_runs_0', 'target_s_runs_1', 'target_s_runs_2']>\n",
      "['./preds_res/ddpm_250/run1/**.npy', './preds_res/ddpm_250/run2/**.npy', './preds_res/ddpm_250/run3/**.npy']\n",
      "ddpm_250\n",
      "0\n"
     ]
    },
    {
     "name": "stderr",
     "output_type": "stream",
     "text": [
      "100%|██████████| 10/10 [00:08<00:00,  1.23it/s]\n"
     ]
    },
    {
     "name": "stdout",
     "output_type": "stream",
     "text": [
      "<KeysViewHDF5 ['pred_s_runs_0', 'target_s_runs_0']>\n",
      "1\n"
     ]
    },
    {
     "name": "stderr",
     "output_type": "stream",
     "text": [
      "100%|██████████| 10/10 [00:05<00:00,  1.71it/s]\n"
     ]
    },
    {
     "name": "stdout",
     "output_type": "stream",
     "text": [
      "<KeysViewHDF5 ['pred_s_runs_0', 'pred_s_runs_1', 'target_s_runs_0', 'target_s_runs_1']>\n",
      "2\n"
     ]
    },
    {
     "name": "stderr",
     "output_type": "stream",
     "text": [
      "100%|██████████| 10/10 [00:06<00:00,  1.48it/s]\n"
     ]
    },
    {
     "name": "stdout",
     "output_type": "stream",
     "text": [
      "<KeysViewHDF5 ['pred_s_runs_0', 'pred_s_runs_1', 'pred_s_runs_2', 'target_s_runs_0', 'target_s_runs_1', 'target_s_runs_2']>\n",
      "['./preds_res/ddpm_100/run1/**.npy', './preds_res/ddpm_100/run2/**.npy', './preds_res/ddpm_100/run3/**.npy']\n",
      "ddpm_100\n",
      "0\n"
     ]
    },
    {
     "name": "stderr",
     "output_type": "stream",
     "text": [
      "100%|██████████| 10/10 [00:08<00:00,  1.16it/s]\n"
     ]
    },
    {
     "name": "stdout",
     "output_type": "stream",
     "text": [
      "<KeysViewHDF5 ['pred_s_runs_0', 'target_s_runs_0']>\n",
      "1\n"
     ]
    },
    {
     "name": "stderr",
     "output_type": "stream",
     "text": [
      "100%|██████████| 10/10 [00:13<00:00,  1.38s/it]\n"
     ]
    },
    {
     "name": "stdout",
     "output_type": "stream",
     "text": [
      "<KeysViewHDF5 ['pred_s_runs_0', 'pred_s_runs_1', 'target_s_runs_0', 'target_s_runs_1']>\n",
      "2\n"
     ]
    },
    {
     "name": "stderr",
     "output_type": "stream",
     "text": [
      "100%|██████████| 10/10 [00:08<00:00,  1.14it/s]\n"
     ]
    },
    {
     "name": "stdout",
     "output_type": "stream",
     "text": [
      "<KeysViewHDF5 ['pred_s_runs_0', 'pred_s_runs_1', 'pred_s_runs_2', 'target_s_runs_0', 'target_s_runs_1', 'target_s_runs_2']>\n",
      "['./preds_res/ddpm_50/run1/**.npy', './preds_res/ddpm_50/run2/**.npy', './preds_res/ddpm_50/run3/**.npy']\n",
      "ddpm_50\n",
      "0\n"
     ]
    },
    {
     "name": "stderr",
     "output_type": "stream",
     "text": [
      "100%|██████████| 10/10 [00:13<00:00,  1.34s/it]\n"
     ]
    },
    {
     "name": "stdout",
     "output_type": "stream",
     "text": [
      "<KeysViewHDF5 ['pred_s_runs_0', 'target_s_runs_0']>\n",
      "1\n"
     ]
    },
    {
     "name": "stderr",
     "output_type": "stream",
     "text": [
      "100%|██████████| 10/10 [00:11<00:00,  1.10s/it]\n"
     ]
    },
    {
     "name": "stdout",
     "output_type": "stream",
     "text": [
      "<KeysViewHDF5 ['pred_s_runs_0', 'pred_s_runs_1', 'target_s_runs_0', 'target_s_runs_1']>\n",
      "2\n"
     ]
    },
    {
     "name": "stderr",
     "output_type": "stream",
     "text": [
      "100%|██████████| 10/10 [00:08<00:00,  1.16it/s]\n"
     ]
    },
    {
     "name": "stdout",
     "output_type": "stream",
     "text": [
      "<KeysViewHDF5 ['pred_s_runs_0', 'pred_s_runs_1', 'pred_s_runs_2', 'target_s_runs_0', 'target_s_runs_1', 'target_s_runs_2']>\n",
      "Done\n"
     ]
    }
   ],
   "source": [
    "for i in (range(len(file_list))):#sampling timesteps\n",
    "    l=file_list[i]\n",
    "    print(l)\n",
    "    name=l[0].split(\"/\")[-3]\n",
    "    print(name)\n",
    "    hhh=h5py.File(\"./preds_res/results_hyper_64_rr\"+str(name)+\"_runs.hdf5\", \"w\")\n",
    "    hhh.close()\n",
    "\n",
    "    for j in (range(len(l))): #runs\n",
    "        print(j)\n",
    "        npys=glob2.glob(l[j])\n",
    "\n",
    "        pred_s_list_runs=[]\n",
    "        target_s_list_runs=[]\n",
    "\n",
    "        for k in tqdm(npys):\n",
    "            # print(k)\n",
    "            data=np.load(k,allow_pickle=True)[()]\n",
    "            # print(data.keys())\n",
    "\n",
    "            pred=data[\"pred\"]\n",
    "            target=data[\"target\"]\n",
    "            scale=data[\"pred_min_max\"]\n",
    "\n",
    "            pred_un=unnormalize(pred)\n",
    "            pred_scaled=re_scale(pred_un,scale)\n",
    "\n",
    "            \n",
    "\n",
    "            pred_s_list_runs.append(pred_scaled)\n",
    "            target_s_list_runs.append(target)\n",
    "\n",
    "        pred_s_list_runs=np.array(pred_s_list_runs)\n",
    "        target_s_list_runs=np.array(target_s_list_runs)\n",
    "\n",
    "        pred_s_list_runs_c=[]\n",
    "        for g in pred_s_list_runs:\n",
    "            for h in g:\n",
    "                pred_s_list_runs_c.append(h)\n",
    "\n",
    "        target_s_list_runs_c=[]\n",
    "        for g in target_s_list_runs:\n",
    "            for h in g:\n",
    "                target_s_list_runs_c.append(h)\n",
    "\n",
    "        with h5py.File(\"./preds_res/results_hyper_64_rr\"+str(name)+\"_runs.hdf5\", \"a\") as f:\n",
    "            f.create_dataset(\"pred_s_runs_\"+str(j), data=pred_s_list_runs_c,compression=\"gzip\",compression_opts=5)\n",
    "            f.create_dataset(\"target_s_runs_\"+str(j), data=target_s_list_runs_c,compression=\"gzip\",compression_opts=5)\n",
    "            f.close()\n",
    "        \n",
    "        with h5py.File(\"./preds_res/results_hyper_64_rr\"+str(name)+\"_runs.hdf5\", \"r\") as f:\n",
    "            print(f.keys())\n",
    "            f.close()\n",
    "\n",
    "print(\"Done\")"
   ]
  },
  {
   "attachments": {},
   "cell_type": "markdown",
   "metadata": {},
   "source": [
    "# Get MAE & MSE"
   ]
  },
  {
   "cell_type": "code",
   "execution_count": 8,
   "metadata": {},
   "outputs": [],
   "source": [
    "def MAE(a,b):\n",
    "    return mean_absolute_error(a,b)\n",
    "\n",
    "def MSE(a,b):\n",
    "    return mean_squared_error(a,b)"
   ]
  },
  {
   "cell_type": "code",
   "execution_count": 9,
   "metadata": {},
   "outputs": [
    {
     "name": "stdout",
     "output_type": "stream",
     "text": [
      "['./preds_res/results_hyper_64_ddpm_50_runs.hdf5', './preds_res/results_hyper_64_ddpm_100_runs.hdf5', './preds_res/results_hyper_64_ddpm_250_runs.hdf5', './preds_res/results_hyper_64_ddpm_500_runs.hdf5']\n"
     ]
    }
   ],
   "source": [
    "list_hdf=glob2.glob(\"./preds_res/**hdf5\")\n",
    "print(list_hdf)\n",
    "d_scaled={}"
   ]
  },
  {
   "cell_type": "code",
   "execution_count": 10,
   "metadata": {},
   "outputs": [
    {
     "name": "stdout",
     "output_type": "stream",
     "text": [
      "<KeysViewHDF5 ['pred_s_runs_0', 'pred_s_runs_1', 'pred_s_runs_2', 'target_s_runs_0', 'target_s_runs_1', 'target_s_runs_2']>\n",
      "50\n",
      "1.4953446 271.12976\n",
      "1.4916661 271.13333\n",
      "1.4958053 271.41794\n",
      "Mean MAE: 1.4942719 STD mae 0.0018522309 Mean MSE: 271.22702 STD mse 0.13501444\n",
      "<KeysViewHDF5 ['pred_s_runs_0', 'pred_s_runs_1', 'pred_s_runs_2', 'target_s_runs_0', 'target_s_runs_1', 'target_s_runs_2']>\n",
      "100\n",
      "1.5183436 271.51007\n",
      "1.4937967 215.40825\n",
      "1.5247257 271.25812\n",
      "Mean MAE: 1.5122887 STD mae 0.013332836 Mean MSE: 252.72548 STD mse 26.387466\n",
      "<KeysViewHDF5 ['pred_s_runs_0', 'pred_s_runs_1', 'pred_s_runs_2', 'target_s_runs_0', 'target_s_runs_1', 'target_s_runs_2']>\n",
      "250\n",
      "1.5676844 271.74774\n",
      "1.5634515 271.3968\n",
      "1.5736117 271.77026\n",
      "Mean MAE: 1.5682492 STD mae 0.0041670706 Mean MSE: 271.63828 STD mse 0.17099628\n",
      "<KeysViewHDF5 ['pred_s_runs_0', 'pred_s_runs_1', 'pred_s_runs_2', 'target_s_runs_0', 'target_s_runs_1', 'target_s_runs_2']>\n",
      "500\n",
      "1.5804219 216.01892\n",
      "1.5771086 216.484\n",
      "1.5879936 272.06494\n",
      "Mean MAE: 1.5818415 STD mae 0.004555727 Mean MSE: 234.85596 STD mse 26.311415\n"
     ]
    }
   ],
   "source": [
    "for i in list_hdf:\n",
    "\n",
    "    with h5py.File(i, \"r\") as f:\n",
    "        print(f.keys())\n",
    "        time_step=i.split(\"/\")[-1].split(\".\")[0].split(\"_\")[-2]\n",
    "        print(time_step)\n",
    "\n",
    "        mae_l=[]\n",
    "        mse_l=[]\n",
    "\n",
    "        for j in range(3):\n",
    "\n",
    "            pred=f[\"pred_s_runs_\"+str(j)][:].squeeze()\n",
    "            target=f[\"target_s_runs_\"+str(j)][:].squeeze()\n",
    "\n",
    "            pred_reshaped=pred.reshape(-1,64*64)\n",
    "            target_reshaped=target.reshape(-1,64*64)\n",
    "            # print(pred_reshaped.shape,target_reshaped.shape)\n",
    "\n",
    "            mae=MAE(pred_reshaped,target_reshaped)\n",
    "            mse=MSE(pred_reshaped,target_reshaped)\n",
    "\n",
    "            mae_l.append(mae)\n",
    "            mse_l.append(mse)\n",
    "            print(mae,mse,)\n",
    "\n",
    "        print(\"Mean MAE:\",np.mean(mae_l),\"STD mae\",np.std(mae_l),\"Mean MSE:\",np.mean(mse_l),\"STD mse\",np.std(mse_l))"
   ]
  },
  {
   "cell_type": "code",
   "execution_count": 21,
   "metadata": {},
   "outputs": [
    {
     "name": "stdout",
     "output_type": "stream",
     "text": [
      "./preds_res/results_hyper_64_ddpm_500_runs.hdf5\n",
      "<KeysViewHDF5 ['pred_s_runs_0', 'pred_s_runs_1', 'pred_s_runs_2', 'target_s_runs_0', 'target_s_runs_1', 'target_s_runs_2']>\n"
     ]
    }
   ],
   "source": [
    "d=h5py.File(list_hdf[-1], \"r\")\n",
    "print(list_hdf[-1])\n",
    "print(d.keys())"
   ]
  },
  {
   "cell_type": "code",
   "execution_count": 22,
   "metadata": {},
   "outputs": [
    {
     "name": "stdout",
     "output_type": "stream",
     "text": [
      "(9950, 1, 64, 64) (9950, 1, 64, 64)\n"
     ]
    }
   ],
   "source": [
    "pred=d[\"pred_s_runs_0\"][:]\n",
    "target=d[\"target_s_runs_0\"][:]\n",
    "print(pred.shape,target.shape)"
   ]
  },
  {
   "cell_type": "code",
   "execution_count": 27,
   "metadata": {},
   "outputs": [
    {
     "data": {
      "image/png": "[encoded data removed]",
      "text/plain": [
       "<Figure size 640x480 with 2 Axes>"
      ]
     },
     "metadata": {},
     "output_type": "display_data"
    },
    {
     "data": {
      "image/png": "[encoded data removed]",
      "text/plain": [
       "<Figure size 640x480 with 2 Axes>"
      ]
     },
     "metadata": {},
     "output_type": "display_data"
    },
    {
     "data": {
      "image/png": "[encoded data removed]",
      "text/plain": [
       "<Figure size 640x480 with 2 Axes>"
      ]
     },
     "metadata": {},
     "output_type": "display_data"
    }
   ],
   "source": [
    "pred=pred.squeeze()\n",
    "target=target.squeeze()\n",
    "\n",
    "n=0\n",
    "\n",
    "plt.imshow(pred[n])\n",
    "plt.colorbar()\n",
    "plt.show()\n",
    "\n",
    "plt.imshow(target[n])\n",
    "plt.colorbar()\n",
    "plt.show()\n",
    "\n",
    "plt.imshow(np.abs(pred[n]-target[n]))\n",
    "plt.colorbar()\n",
    "plt.show()\n",
    "\n",
    "#print mae\n",
    "\n"
   ]
  },
  {
   "cell_type": "code",
   "execution_count": 11,
   "metadata": {},
   "outputs": [],
   "source": [
    "d=np.load(\"./t0/ddpm_500/run1/batch_0.npy\",allow_pickle=True)[()]"
   ]
  },
  {
   "cell_type": "code",
   "execution_count": 18,
   "metadata": {},
   "outputs": [
    {
     "name": "stdout",
     "output_type": "stream",
     "text": [
      "dict_keys([500, 100, 250, 50])\n"
     ]
    }
   ],
   "source": [
    "import numpy as np\n",
    "d=np.load(\"../../stress_diffuser_256/analysis_256/mae_scaled_256x256.npy\",allow_pickle=True)[()]\n",
    "print(d.keys())"
   ]
  },
  {
   "cell_type": "code",
   "execution_count": 37,
   "metadata": {},
   "outputs": [
    {
     "data": {
      "text/plain": [
       "[<matplotlib.lines.Line2D at 0x7fd2ab7b58a0>]"
      ]
     },
     "execution_count": 37,
     "metadata": {},
     "output_type": "execute_result"
    },
    {
     "data": {
      "image/png": "[encoded data removed]",
      "text/plain": [
       "<Figure size 640x480 with 1 Axes>"
      ]
     },
     "metadata": {},
     "output_type": "display_data"
    }
   ],
   "source": [
    "plt.plot(d[500][\"mae_mean\"])"
   ]
  },
  {
   "attachments": {},
   "cell_type": "markdown",
   "metadata": {},
   "source": [
    "# outa distribution"
   ]
  },
  {
   "cell_type": "code",
   "execution_count": 2,
   "metadata": {},
   "outputs": [],
   "source": [
    "import glob2\n",
    "import h5py\n",
    "import numpy as np\n",
    "import matplotlib.pyplot as plt\n",
    "import seaborn as sns\n",
    "from tqdm import tqdm\n",
    "import glob\n",
    "from sklearn.metrics import mean_absolute_error\n",
    "from sklearn.metrics import mean_squared_error"
   ]
  },
  {
   "cell_type": "code",
   "execution_count": 3,
   "metadata": {},
   "outputs": [],
   "source": [
    "def unnormalize(x):\n",
    "\n",
    "    unx=(x+1)/2\n",
    "\n",
    "    unx[unx>0.999]=1\n",
    "    unx[unx<0.0001]=0\n",
    "\n",
    "    #rescale to 0-1\n",
    "    return unx\n",
    "\n",
    "\n",
    "def re_scale(x,mxmn):\n",
    "\n",
    "    #x: shape bX1X256X256\n",
    "    #mxmn: maximum minimum values shape bX2\n",
    "\n",
    "    mx=mxmn[:,0]\n",
    "    mn=mxmn[:,1]\n",
    "\n",
    "    mx=mx.reshape(-1,1,1,1)\n",
    "    mn=mn.reshape(-1,1,1,1)\n",
    "\n",
    "    mn[mn<0.0001]=0\n",
    "    mx[mx<0.0001]=0\n",
    "\n",
    "    x=x*(mx-mn)+mn\n",
    "\n",
    "    return x"
   ]
  },
  {
   "cell_type": "code",
   "execution_count": 4,
   "metadata": {},
   "outputs": [],
   "source": [
    "# file_list=[\n",
    "#     [\"./og_data_seed31/ddpm_500/run1/**.npy\",\n",
    "#     \"./og_data_seed31/ddpm_500/run2/**.npy\",\n",
    "#     \"./og_data_seed31/ddpm_500/run3/**.npy\"],\n",
    "#     [\"./og_data_seed31/ddpm_250/run1/**.npy\",\n",
    "#     \"./og_data_seed31/ddpm_250/run2/**.npy\",\n",
    "#     \"./og_data_seed31/ddpm_250/run3/**.npy\"],\n",
    "#     [\"./og_data_seed31/ddpm_100/run1/**.npy\",\n",
    "#     \"./og_data_seed31/ddpm_100/run2/**.npy\",\n",
    "#     \"./og_data_seed31/ddpm_100/run3/**.npy\"],\n",
    "#     [\"./og_data_seed31/ddpm_50/run1/**.npy\",\n",
    "#     \"./og_data_seed31/ddpm_50/run2/**.npy\",\n",
    "#     \"./og_data_seed31/ddpm_50/run3/**.npy\"],\n",
    "# ]\n",
    "\n",
    "file_list=[\n",
    "    [\"./preds_res_outa/ddpm_500/run1/**.npy\",\n",
    "    \"./preds_res_outa/ddpm_500/run2/**.npy\",\n",
    "    \"./preds_res_outa/ddpm_500/run3/**.npy\"],\n",
    "    [\"./preds_res_outa/ddpm_250/run1/**.npy\",\n",
    "    \"./preds_res_outa/ddpm_250/run2/**.npy\",\n",
    "    \"./preds_res_outa/ddpm_250/run3/**.npy\"],\n",
    "    [\"./preds_res_outa/ddpm_100/run1/**.npy\",\n",
    "    \"./preds_res_outa/ddpm_100/run2/**.npy\",\n",
    "    \"./preds_res_outa/ddpm_100/run3/**.npy\"],\n",
    "    [\"./preds_res_outa/ddpm_50/run1/**.npy\",\n",
    "    \"./preds_res_outa/ddpm_50/run2/**.npy\",\n",
    "    \"./preds_res_outa/ddpm_50/run3/**.npy\"],\n",
    "]\n"
   ]
  },
  {
   "cell_type": "code",
   "execution_count": 6,
   "metadata": {},
   "outputs": [
    {
     "name": "stdout",
     "output_type": "stream",
     "text": [
      "['./preds_res_outa/ddpm_500/run1/**.npy', './preds_res_outa/ddpm_500/run2/**.npy', './preds_res_outa/ddpm_500/run3/**.npy']\n",
      "ddpm_500\n",
      "0\n"
     ]
    },
    {
     "name": "stderr",
     "output_type": "stream",
     "text": [
      "  0%|          | 0/11 [00:00<?, ?it/s]"
     ]
    },
    {
     "name": "stdout",
     "output_type": "stream",
     "text": [
      "dict_keys(['inps', 'target', 'target_n', 'stack', 'pred', 'pred_min_max'])\n"
     ]
    },
    {
     "name": "stderr",
     "output_type": "stream",
     "text": [
      " 18%|█▊        | 2/11 [00:00<00:03,  2.59it/s]"
     ]
    },
    {
     "name": "stdout",
     "output_type": "stream",
     "text": [
      "dict_keys(['inps', 'target', 'target_n', 'stack', 'pred', 'pred_min_max'])\n"
     ]
    },
    {
     "name": "stderr",
     "output_type": "stream",
     "text": [
      " 27%|██▋       | 3/11 [00:01<00:03,  2.10it/s]"
     ]
    },
    {
     "name": "stdout",
     "output_type": "stream",
     "text": [
      "dict_keys(['inps', 'target', 'target_n', 'stack', 'pred', 'pred_min_max'])\n"
     ]
    },
    {
     "name": "stderr",
     "output_type": "stream",
     "text": [
      " 36%|███▋      | 4/11 [00:01<00:03,  1.95it/s]"
     ]
    },
    {
     "name": "stdout",
     "output_type": "stream",
     "text": [
      "dict_keys(['inps', 'target', 'target_n', 'stack', 'pred', 'pred_min_max'])\n"
     ]
    },
    {
     "name": "stderr",
     "output_type": "stream",
     "text": [
      " 45%|████▌     | 5/11 [00:02<00:03,  1.86it/s]"
     ]
    },
    {
     "name": "stdout",
     "output_type": "stream",
     "text": [
      "dict_keys(['inps', 'target', 'target_n', 'stack', 'pred', 'pred_min_max'])\n"
     ]
    },
    {
     "name": "stderr",
     "output_type": "stream",
     "text": [
      " 55%|█████▍    | 6/11 [00:03<00:02,  1.79it/s]"
     ]
    },
    {
     "name": "stdout",
     "output_type": "stream",
     "text": [
      "dict_keys(['inps', 'target', 'target_n', 'stack', 'pred', 'pred_min_max'])\n",
      "dict_keys(['inps', 'target', 'target_n', 'stack', 'pred', 'pred_min_max'])\n"
     ]
    },
    {
     "name": "stderr",
     "output_type": "stream",
     "text": [
      " 73%|███████▎  | 8/11 [00:03<00:01,  2.28it/s]"
     ]
    },
    {
     "name": "stdout",
     "output_type": "stream",
     "text": [
      "dict_keys(['inps', 'target', 'target_n', 'stack', 'pred', 'pred_min_max'])\n"
     ]
    },
    {
     "name": "stderr",
     "output_type": "stream",
     "text": [
      "100%|██████████| 11/11 [00:04<00:00,  2.62it/s]"
     ]
    },
    {
     "name": "stdout",
     "output_type": "stream",
     "text": [
      "dict_keys(['inps', 'target', 'target_n', 'stack', 'pred', 'pred_min_max'])\n",
      "dict_keys(['inps', 'target', 'target_n', 'stack', 'pred', 'pred_min_max'])\n",
      "dict_keys(['inps', 'target', 'target_n', 'stack', 'pred', 'pred_min_max'])\n"
     ]
    },
    {
     "name": "stderr",
     "output_type": "stream",
     "text": [
      "\n",
      "/tmp/ipykernel_97030/2784428897.py:36: VisibleDeprecationWarning: Creating an ndarray from ragged nested sequences (which is a list-or-tuple of lists-or-tuples-or ndarrays with different lengths or shapes) is deprecated. If you meant to do this, you must specify 'dtype=object' when creating the ndarray.\n",
      "  pred_s_list_runs=np.array(pred_s_list_runs)\n",
      "/tmp/ipykernel_97030/2784428897.py:37: VisibleDeprecationWarning: Creating an ndarray from ragged nested sequences (which is a list-or-tuple of lists-or-tuples-or ndarrays with different lengths or shapes) is deprecated. If you meant to do this, you must specify 'dtype=object' when creating the ndarray.\n",
      "  target_s_list_runs=np.array(target_s_list_runs)\n"
     ]
    },
    {
     "name": "stdout",
     "output_type": "stream",
     "text": [
      "<KeysViewHDF5 ['pred_s_runs_0', 'target_s_runs_0']>\n",
      "1\n"
     ]
    },
    {
     "name": "stderr",
     "output_type": "stream",
     "text": [
      "  9%|▉         | 1/11 [00:00<00:06,  1.66it/s]"
     ]
    },
    {
     "name": "stdout",
     "output_type": "stream",
     "text": [
      "dict_keys(['inps', 'target', 'target_n', 'stack', 'pred', 'pred_min_max'])\n"
     ]
    },
    {
     "name": "stderr",
     "output_type": "stream",
     "text": [
      " 18%|█▊        | 2/11 [00:01<00:05,  1.65it/s]"
     ]
    },
    {
     "name": "stdout",
     "output_type": "stream",
     "text": [
      "dict_keys(['inps', 'target', 'target_n', 'stack', 'pred', 'pred_min_max'])\n"
     ]
    },
    {
     "name": "stderr",
     "output_type": "stream",
     "text": [
      " 27%|██▋       | 3/11 [00:02<00:05,  1.43it/s]"
     ]
    },
    {
     "name": "stdout",
     "output_type": "stream",
     "text": [
      "dict_keys(['inps', 'target', 'target_n', 'stack', 'pred', 'pred_min_max'])\n"
     ]
    },
    {
     "name": "stderr",
     "output_type": "stream",
     "text": [
      " 36%|███▋      | 4/11 [00:02<00:04,  1.52it/s]"
     ]
    },
    {
     "name": "stdout",
     "output_type": "stream",
     "text": [
      "dict_keys(['inps', 'target', 'target_n', 'stack', 'pred', 'pred_min_max'])\n"
     ]
    },
    {
     "name": "stderr",
     "output_type": "stream",
     "text": [
      " 45%|████▌     | 5/11 [00:03<00:03,  1.58it/s]"
     ]
    },
    {
     "name": "stdout",
     "output_type": "stream",
     "text": [
      "dict_keys(['inps', 'target', 'target_n', 'stack', 'pred', 'pred_min_max'])\n"
     ]
    },
    {
     "name": "stderr",
     "output_type": "stream",
     "text": [
      " 55%|█████▍    | 6/11 [00:03<00:03,  1.59it/s]"
     ]
    },
    {
     "name": "stdout",
     "output_type": "stream",
     "text": [
      "dict_keys(['inps', 'target', 'target_n', 'stack', 'pred', 'pred_min_max'])\n"
     ]
    },
    {
     "name": "stderr",
     "output_type": "stream",
     "text": [
      " 64%|██████▎   | 7/11 [00:04<00:02,  1.61it/s]"
     ]
    },
    {
     "name": "stdout",
     "output_type": "stream",
     "text": [
      "dict_keys(['inps', 'target', 'target_n', 'stack', 'pred', 'pred_min_max'])\n"
     ]
    },
    {
     "name": "stderr",
     "output_type": "stream",
     "text": [
      " 73%|███████▎  | 8/11 [00:04<00:01,  1.73it/s]"
     ]
    },
    {
     "name": "stdout",
     "output_type": "stream",
     "text": [
      "dict_keys(['inps', 'target', 'target_n', 'stack', 'pred', 'pred_min_max'])\n"
     ]
    },
    {
     "name": "stderr",
     "output_type": "stream",
     "text": [
      " 82%|████████▏ | 9/11 [00:05<00:01,  1.54it/s]"
     ]
    },
    {
     "name": "stdout",
     "output_type": "stream",
     "text": [
      "dict_keys(['inps', 'target', 'target_n', 'stack', 'pred', 'pred_min_max'])\n"
     ]
    },
    {
     "name": "stderr",
     "output_type": "stream",
     "text": [
      " 91%|█████████ | 10/11 [00:06<00:00,  1.47it/s]"
     ]
    },
    {
     "name": "stdout",
     "output_type": "stream",
     "text": [
      "dict_keys(['inps', 'target', 'target_n', 'stack', 'pred', 'pred_min_max'])\n"
     ]
    },
    {
     "name": "stderr",
     "output_type": "stream",
     "text": [
      "100%|██████████| 11/11 [00:06<00:00,  1.58it/s]"
     ]
    },
    {
     "name": "stdout",
     "output_type": "stream",
     "text": [
      "dict_keys(['inps', 'target', 'target_n', 'stack', 'pred', 'pred_min_max'])\n"
     ]
    },
    {
     "name": "stderr",
     "output_type": "stream",
     "text": [
      "\n"
     ]
    },
    {
     "name": "stdout",
     "output_type": "stream",
     "text": [
      "<KeysViewHDF5 ['pred_s_runs_0', 'pred_s_runs_1', 'target_s_runs_0', 'target_s_runs_1']>\n",
      "2\n"
     ]
    },
    {
     "name": "stderr",
     "output_type": "stream",
     "text": [
      "  9%|▉         | 1/11 [00:00<00:07,  1.32it/s]"
     ]
    },
    {
     "name": "stdout",
     "output_type": "stream",
     "text": [
      "dict_keys(['inps', 'target', 'target_n', 'stack', 'pred', 'pred_min_max'])\n"
     ]
    },
    {
     "name": "stderr",
     "output_type": "stream",
     "text": [
      " 18%|█▊        | 2/11 [00:01<00:07,  1.21it/s]"
     ]
    },
    {
     "name": "stdout",
     "output_type": "stream",
     "text": [
      "dict_keys(['inps', 'target', 'target_n', 'stack', 'pred', 'pred_min_max'])\n"
     ]
    },
    {
     "name": "stderr",
     "output_type": "stream",
     "text": [
      " 27%|██▋       | 3/11 [00:02<00:06,  1.23it/s]"
     ]
    },
    {
     "name": "stdout",
     "output_type": "stream",
     "text": [
      "dict_keys(['inps', 'target', 'target_n', 'stack', 'pred', 'pred_min_max'])\n"
     ]
    },
    {
     "name": "stderr",
     "output_type": "stream",
     "text": [
      " 36%|███▋      | 4/11 [00:03<00:05,  1.25it/s]"
     ]
    },
    {
     "name": "stdout",
     "output_type": "stream",
     "text": [
      "dict_keys(['inps', 'target', 'target_n', 'stack', 'pred', 'pred_min_max'])\n"
     ]
    },
    {
     "name": "stderr",
     "output_type": "stream",
     "text": [
      " 45%|████▌     | 5/11 [00:04<00:04,  1.20it/s]"
     ]
    },
    {
     "name": "stdout",
     "output_type": "stream",
     "text": [
      "dict_keys(['inps', 'target', 'target_n', 'stack', 'pred', 'pred_min_max'])\n"
     ]
    },
    {
     "name": "stderr",
     "output_type": "stream",
     "text": [
      " 55%|█████▍    | 6/11 [00:04<00:04,  1.19it/s]"
     ]
    },
    {
     "name": "stdout",
     "output_type": "stream",
     "text": [
      "dict_keys(['inps', 'target', 'target_n', 'stack', 'pred', 'pred_min_max'])\n"
     ]
    },
    {
     "name": "stderr",
     "output_type": "stream",
     "text": [
      " 64%|██████▎   | 7/11 [00:05<00:03,  1.15it/s]"
     ]
    },
    {
     "name": "stdout",
     "output_type": "stream",
     "text": [
      "dict_keys(['inps', 'target', 'target_n', 'stack', 'pred', 'pred_min_max'])\n"
     ]
    },
    {
     "name": "stderr",
     "output_type": "stream",
     "text": [
      " 73%|███████▎  | 8/11 [00:06<00:02,  1.20it/s]"
     ]
    },
    {
     "name": "stdout",
     "output_type": "stream",
     "text": [
      "dict_keys(['inps', 'target', 'target_n', 'stack', 'pred', 'pred_min_max'])\n"
     ]
    },
    {
     "name": "stderr",
     "output_type": "stream",
     "text": [
      " 82%|████████▏ | 9/11 [00:07<00:01,  1.23it/s]"
     ]
    },
    {
     "name": "stdout",
     "output_type": "stream",
     "text": [
      "dict_keys(['inps', 'target', 'target_n', 'stack', 'pred', 'pred_min_max'])\n"
     ]
    },
    {
     "name": "stderr",
     "output_type": "stream",
     "text": [
      " 91%|█████████ | 10/11 [00:08<00:00,  1.23it/s]"
     ]
    },
    {
     "name": "stdout",
     "output_type": "stream",
     "text": [
      "dict_keys(['inps', 'target', 'target_n', 'stack', 'pred', 'pred_min_max'])\n"
     ]
    },
    {
     "name": "stderr",
     "output_type": "stream",
     "text": [
      "100%|██████████| 11/11 [00:08<00:00,  1.23it/s]"
     ]
    },
    {
     "name": "stdout",
     "output_type": "stream",
     "text": [
      "dict_keys(['inps', 'target', 'target_n', 'stack', 'pred', 'pred_min_max'])\n"
     ]
    },
    {
     "name": "stderr",
     "output_type": "stream",
     "text": [
      "\n"
     ]
    },
    {
     "name": "stdout",
     "output_type": "stream",
     "text": [
      "<KeysViewHDF5 ['pred_s_runs_0', 'pred_s_runs_1', 'pred_s_runs_2', 'target_s_runs_0', 'target_s_runs_1', 'target_s_runs_2']>\n",
      "['./preds_res_outa/ddpm_250/run1/**.npy', './preds_res_outa/ddpm_250/run2/**.npy', './preds_res_outa/ddpm_250/run3/**.npy']\n",
      "ddpm_250\n",
      "0\n"
     ]
    },
    {
     "name": "stderr",
     "output_type": "stream",
     "text": [
      "  9%|▉         | 1/11 [00:00<00:08,  1.22it/s]"
     ]
    },
    {
     "name": "stdout",
     "output_type": "stream",
     "text": [
      "dict_keys(['inps', 'target', 'target_n', 'stack', 'pred', 'pred_min_max'])\n"
     ]
    },
    {
     "name": "stderr",
     "output_type": "stream",
     "text": [
      " 18%|█▊        | 2/11 [00:01<00:06,  1.29it/s]"
     ]
    },
    {
     "name": "stdout",
     "output_type": "stream",
     "text": [
      "dict_keys(['inps', 'target', 'target_n', 'stack', 'pred', 'pred_min_max'])\n"
     ]
    },
    {
     "name": "stderr",
     "output_type": "stream",
     "text": [
      " 27%|██▋       | 3/11 [00:02<00:05,  1.35it/s]"
     ]
    },
    {
     "name": "stdout",
     "output_type": "stream",
     "text": [
      "dict_keys(['inps', 'target', 'target_n', 'stack', 'pred', 'pred_min_max'])\n"
     ]
    },
    {
     "name": "stderr",
     "output_type": "stream",
     "text": [
      " 36%|███▋      | 4/11 [00:03<00:05,  1.33it/s]"
     ]
    },
    {
     "name": "stdout",
     "output_type": "stream",
     "text": [
      "dict_keys(['inps', 'target', 'target_n', 'stack', 'pred', 'pred_min_max'])\n"
     ]
    },
    {
     "name": "stderr",
     "output_type": "stream",
     "text": [
      " 45%|████▌     | 5/11 [00:03<00:04,  1.34it/s]"
     ]
    },
    {
     "name": "stdout",
     "output_type": "stream",
     "text": [
      "dict_keys(['inps', 'target', 'target_n', 'stack', 'pred', 'pred_min_max'])\n"
     ]
    },
    {
     "name": "stderr",
     "output_type": "stream",
     "text": [
      " 55%|█████▍    | 6/11 [00:04<00:03,  1.32it/s]"
     ]
    },
    {
     "name": "stdout",
     "output_type": "stream",
     "text": [
      "dict_keys(['inps', 'target', 'target_n', 'stack', 'pred', 'pred_min_max'])\n"
     ]
    },
    {
     "name": "stderr",
     "output_type": "stream",
     "text": [
      " 64%|██████▎   | 7/11 [00:05<00:03,  1.29it/s]"
     ]
    },
    {
     "name": "stdout",
     "output_type": "stream",
     "text": [
      "dict_keys(['inps', 'target', 'target_n', 'stack', 'pred', 'pred_min_max'])\n"
     ]
    },
    {
     "name": "stderr",
     "output_type": "stream",
     "text": [
      " 73%|███████▎  | 8/11 [00:06<00:03,  1.02s/it]"
     ]
    },
    {
     "name": "stdout",
     "output_type": "stream",
     "text": [
      "dict_keys(['inps', 'target', 'target_n', 'stack', 'pred', 'pred_min_max'])\n"
     ]
    },
    {
     "name": "stderr",
     "output_type": "stream",
     "text": [
      " 82%|████████▏ | 9/11 [00:09<00:02,  1.45s/it]"
     ]
    },
    {
     "name": "stdout",
     "output_type": "stream",
     "text": [
      "dict_keys(['inps', 'target', 'target_n', 'stack', 'pred', 'pred_min_max'])\n"
     ]
    },
    {
     "name": "stderr",
     "output_type": "stream",
     "text": [
      " 91%|█████████ | 10/11 [00:11<00:01,  1.63s/it]"
     ]
    },
    {
     "name": "stdout",
     "output_type": "stream",
     "text": [
      "dict_keys(['inps', 'target', 'target_n', 'stack', 'pred', 'pred_min_max'])\n"
     ]
    },
    {
     "name": "stderr",
     "output_type": "stream",
     "text": [
      "100%|██████████| 11/11 [00:12<00:00,  1.10s/it]"
     ]
    },
    {
     "name": "stdout",
     "output_type": "stream",
     "text": [
      "dict_keys(['inps', 'target', 'target_n', 'stack', 'pred', 'pred_min_max'])\n"
     ]
    },
    {
     "name": "stderr",
     "output_type": "stream",
     "text": [
      "\n"
     ]
    },
    {
     "name": "stdout",
     "output_type": "stream",
     "text": [
      "<KeysViewHDF5 ['pred_s_runs_0', 'target_s_runs_0']>\n",
      "1\n"
     ]
    },
    {
     "name": "stderr",
     "output_type": "stream",
     "text": [
      "  9%|▉         | 1/11 [00:00<00:06,  1.50it/s]"
     ]
    },
    {
     "name": "stdout",
     "output_type": "stream",
     "text": [
      "dict_keys(['inps', 'target', 'target_n', 'stack', 'pred', 'pred_min_max'])\n"
     ]
    },
    {
     "name": "stderr",
     "output_type": "stream",
     "text": [
      " 18%|█▊        | 2/11 [00:01<00:06,  1.44it/s]"
     ]
    },
    {
     "name": "stdout",
     "output_type": "stream",
     "text": [
      "dict_keys(['inps', 'target', 'target_n', 'stack', 'pred', 'pred_min_max'])\n"
     ]
    },
    {
     "name": "stderr",
     "output_type": "stream",
     "text": [
      " 27%|██▋       | 3/11 [00:02<00:06,  1.29it/s]"
     ]
    },
    {
     "name": "stdout",
     "output_type": "stream",
     "text": [
      "dict_keys(['inps', 'target', 'target_n', 'stack', 'pred', 'pred_min_max'])\n"
     ]
    },
    {
     "name": "stderr",
     "output_type": "stream",
     "text": [
      " 36%|███▋      | 4/11 [00:02<00:05,  1.33it/s]"
     ]
    },
    {
     "name": "stdout",
     "output_type": "stream",
     "text": [
      "dict_keys(['inps', 'target', 'target_n', 'stack', 'pred', 'pred_min_max'])\n"
     ]
    },
    {
     "name": "stderr",
     "output_type": "stream",
     "text": [
      " 45%|████▌     | 5/11 [00:03<00:04,  1.36it/s]"
     ]
    },
    {
     "name": "stdout",
     "output_type": "stream",
     "text": [
      "dict_keys(['inps', 'target', 'target_n', 'stack', 'pred', 'pred_min_max'])\n"
     ]
    },
    {
     "name": "stderr",
     "output_type": "stream",
     "text": [
      " 55%|█████▍    | 6/11 [00:04<00:03,  1.37it/s]"
     ]
    },
    {
     "name": "stdout",
     "output_type": "stream",
     "text": [
      "dict_keys(['inps', 'target', 'target_n', 'stack', 'pred', 'pred_min_max'])\n"
     ]
    },
    {
     "name": "stderr",
     "output_type": "stream",
     "text": [
      " 64%|██████▎   | 7/11 [00:05<00:02,  1.34it/s]"
     ]
    },
    {
     "name": "stdout",
     "output_type": "stream",
     "text": [
      "dict_keys(['inps', 'target', 'target_n', 'stack', 'pred', 'pred_min_max'])\n"
     ]
    },
    {
     "name": "stderr",
     "output_type": "stream",
     "text": [
      " 73%|███████▎  | 8/11 [00:05<00:02,  1.40it/s]"
     ]
    },
    {
     "name": "stdout",
     "output_type": "stream",
     "text": [
      "dict_keys(['inps', 'target', 'target_n', 'stack', 'pred', 'pred_min_max'])\n"
     ]
    },
    {
     "name": "stderr",
     "output_type": "stream",
     "text": [
      " 82%|████████▏ | 9/11 [00:06<00:01,  1.45it/s]"
     ]
    },
    {
     "name": "stdout",
     "output_type": "stream",
     "text": [
      "dict_keys(['inps', 'target', 'target_n', 'stack', 'pred', 'pred_min_max'])\n"
     ]
    },
    {
     "name": "stderr",
     "output_type": "stream",
     "text": [
      " 91%|█████████ | 10/11 [00:07<00:00,  1.46it/s]"
     ]
    },
    {
     "name": "stdout",
     "output_type": "stream",
     "text": [
      "dict_keys(['inps', 'target', 'target_n', 'stack', 'pred', 'pred_min_max'])\n"
     ]
    },
    {
     "name": "stderr",
     "output_type": "stream",
     "text": [
      "100%|██████████| 11/11 [00:07<00:00,  1.43it/s]"
     ]
    },
    {
     "name": "stdout",
     "output_type": "stream",
     "text": [
      "dict_keys(['inps', 'target', 'target_n', 'stack', 'pred', 'pred_min_max'])\n"
     ]
    },
    {
     "name": "stderr",
     "output_type": "stream",
     "text": [
      "\n"
     ]
    },
    {
     "name": "stdout",
     "output_type": "stream",
     "text": [
      "<KeysViewHDF5 ['pred_s_runs_0', 'pred_s_runs_1', 'target_s_runs_0', 'target_s_runs_1']>\n",
      "2\n"
     ]
    },
    {
     "name": "stderr",
     "output_type": "stream",
     "text": [
      "  9%|▉         | 1/11 [00:01<00:19,  1.92s/it]"
     ]
    },
    {
     "name": "stdout",
     "output_type": "stream",
     "text": [
      "dict_keys(['inps', 'target', 'target_n', 'stack', 'pred', 'pred_min_max'])\n"
     ]
    },
    {
     "name": "stderr",
     "output_type": "stream",
     "text": [
      " 18%|█▊        | 2/11 [00:03<00:16,  1.88s/it]"
     ]
    },
    {
     "name": "stdout",
     "output_type": "stream",
     "text": [
      "dict_keys(['inps', 'target', 'target_n', 'stack', 'pred', 'pred_min_max'])\n"
     ]
    },
    {
     "name": "stderr",
     "output_type": "stream",
     "text": [
      " 27%|██▋       | 3/11 [00:04<00:11,  1.44s/it]"
     ]
    },
    {
     "name": "stdout",
     "output_type": "stream",
     "text": [
      "dict_keys(['inps', 'target', 'target_n', 'stack', 'pred', 'pred_min_max'])\n"
     ]
    },
    {
     "name": "stderr",
     "output_type": "stream",
     "text": [
      " 36%|███▋      | 4/11 [00:05<00:08,  1.19s/it]"
     ]
    },
    {
     "name": "stdout",
     "output_type": "stream",
     "text": [
      "dict_keys(['inps', 'target', 'target_n', 'stack', 'pred', 'pred_min_max'])\n"
     ]
    },
    {
     "name": "stderr",
     "output_type": "stream",
     "text": [
      " 45%|████▌     | 5/11 [00:06<00:06,  1.05s/it]"
     ]
    },
    {
     "name": "stdout",
     "output_type": "stream",
     "text": [
      "dict_keys(['inps', 'target', 'target_n', 'stack', 'pred', 'pred_min_max'])\n"
     ]
    },
    {
     "name": "stderr",
     "output_type": "stream",
     "text": [
      " 55%|█████▍    | 6/11 [00:07<00:04,  1.02it/s]"
     ]
    },
    {
     "name": "stdout",
     "output_type": "stream",
     "text": [
      "dict_keys(['inps', 'target', 'target_n', 'stack', 'pred', 'pred_min_max'])\n"
     ]
    },
    {
     "name": "stderr",
     "output_type": "stream",
     "text": [
      " 64%|██████▎   | 7/11 [00:07<00:03,  1.07it/s]"
     ]
    },
    {
     "name": "stdout",
     "output_type": "stream",
     "text": [
      "dict_keys(['inps', 'target', 'target_n', 'stack', 'pred', 'pred_min_max'])\n"
     ]
    },
    {
     "name": "stderr",
     "output_type": "stream",
     "text": [
      " 73%|███████▎  | 8/11 [00:08<00:02,  1.08it/s]"
     ]
    },
    {
     "name": "stdout",
     "output_type": "stream",
     "text": [
      "dict_keys(['inps', 'target', 'target_n', 'stack', 'pred', 'pred_min_max'])\n"
     ]
    },
    {
     "name": "stderr",
     "output_type": "stream",
     "text": [
      " 82%|████████▏ | 9/11 [00:09<00:01,  1.03it/s]"
     ]
    },
    {
     "name": "stdout",
     "output_type": "stream",
     "text": [
      "dict_keys(['inps', 'target', 'target_n', 'stack', 'pred', 'pred_min_max'])\n"
     ]
    },
    {
     "name": "stderr",
     "output_type": "stream",
     "text": [
      " 91%|█████████ | 10/11 [00:10<00:00,  1.03it/s]"
     ]
    },
    {
     "name": "stdout",
     "output_type": "stream",
     "text": [
      "dict_keys(['inps', 'target', 'target_n', 'stack', 'pred', 'pred_min_max'])\n"
     ]
    },
    {
     "name": "stderr",
     "output_type": "stream",
     "text": [
      "100%|██████████| 11/11 [00:11<00:00,  1.07s/it]"
     ]
    },
    {
     "name": "stdout",
     "output_type": "stream",
     "text": [
      "dict_keys(['inps', 'target', 'target_n', 'stack', 'pred', 'pred_min_max'])\n"
     ]
    },
    {
     "name": "stderr",
     "output_type": "stream",
     "text": [
      "\n"
     ]
    },
    {
     "name": "stdout",
     "output_type": "stream",
     "text": [
      "<KeysViewHDF5 ['pred_s_runs_0', 'pred_s_runs_1', 'pred_s_runs_2', 'target_s_runs_0', 'target_s_runs_1', 'target_s_runs_2']>\n",
      "['./preds_res_outa/ddpm_100/run1/**.npy', './preds_res_outa/ddpm_100/run2/**.npy', './preds_res_outa/ddpm_100/run3/**.npy']\n",
      "ddpm_100\n",
      "0\n"
     ]
    },
    {
     "name": "stderr",
     "output_type": "stream",
     "text": [
      "  9%|▉         | 1/11 [00:00<00:06,  1.46it/s]"
     ]
    },
    {
     "name": "stdout",
     "output_type": "stream",
     "text": [
      "dict_keys(['inps', 'target', 'target_n', 'stack', 'pred', 'pred_min_max'])\n"
     ]
    },
    {
     "name": "stderr",
     "output_type": "stream",
     "text": [
      " 18%|█▊        | 2/11 [00:01<00:06,  1.47it/s]"
     ]
    },
    {
     "name": "stdout",
     "output_type": "stream",
     "text": [
      "dict_keys(['inps', 'target', 'target_n', 'stack', 'pred', 'pred_min_max'])\n"
     ]
    },
    {
     "name": "stderr",
     "output_type": "stream",
     "text": [
      " 27%|██▋       | 3/11 [00:01<00:05,  1.53it/s]"
     ]
    },
    {
     "name": "stdout",
     "output_type": "stream",
     "text": [
      "dict_keys(['inps', 'target', 'target_n', 'stack', 'pred', 'pred_min_max'])\n"
     ]
    },
    {
     "name": "stderr",
     "output_type": "stream",
     "text": [
      " 36%|███▋      | 4/11 [00:02<00:04,  1.48it/s]"
     ]
    },
    {
     "name": "stdout",
     "output_type": "stream",
     "text": [
      "dict_keys(['inps', 'target', 'target_n', 'stack', 'pred', 'pred_min_max'])\n"
     ]
    },
    {
     "name": "stderr",
     "output_type": "stream",
     "text": [
      " 45%|████▌     | 5/11 [00:03<00:04,  1.44it/s]"
     ]
    },
    {
     "name": "stdout",
     "output_type": "stream",
     "text": [
      "dict_keys(['inps', 'target', 'target_n', 'stack', 'pred', 'pred_min_max'])\n"
     ]
    },
    {
     "name": "stderr",
     "output_type": "stream",
     "text": [
      " 55%|█████▍    | 6/11 [00:04<00:03,  1.44it/s]"
     ]
    },
    {
     "name": "stdout",
     "output_type": "stream",
     "text": [
      "dict_keys(['inps', 'target', 'target_n', 'stack', 'pred', 'pred_min_max'])\n"
     ]
    },
    {
     "name": "stderr",
     "output_type": "stream",
     "text": [
      " 64%|██████▎   | 7/11 [00:04<00:02,  1.44it/s]"
     ]
    },
    {
     "name": "stdout",
     "output_type": "stream",
     "text": [
      "dict_keys(['inps', 'target', 'target_n', 'stack', 'pred', 'pred_min_max'])\n"
     ]
    },
    {
     "name": "stderr",
     "output_type": "stream",
     "text": [
      " 73%|███████▎  | 8/11 [00:05<00:02,  1.42it/s]"
     ]
    },
    {
     "name": "stdout",
     "output_type": "stream",
     "text": [
      "dict_keys(['inps', 'target', 'target_n', 'stack', 'pred', 'pred_min_max'])\n"
     ]
    },
    {
     "name": "stderr",
     "output_type": "stream",
     "text": [
      " 82%|████████▏ | 9/11 [00:06<00:01,  1.46it/s]"
     ]
    },
    {
     "name": "stdout",
     "output_type": "stream",
     "text": [
      "dict_keys(['inps', 'target', 'target_n', 'stack', 'pred', 'pred_min_max'])\n"
     ]
    },
    {
     "name": "stderr",
     "output_type": "stream",
     "text": [
      " 91%|█████████ | 10/11 [00:06<00:00,  1.48it/s]"
     ]
    },
    {
     "name": "stdout",
     "output_type": "stream",
     "text": [
      "dict_keys(['inps', 'target', 'target_n', 'stack', 'pred', 'pred_min_max'])\n"
     ]
    },
    {
     "name": "stderr",
     "output_type": "stream",
     "text": [
      "100%|██████████| 11/11 [00:07<00:00,  1.49it/s]"
     ]
    },
    {
     "name": "stdout",
     "output_type": "stream",
     "text": [
      "dict_keys(['inps', 'target', 'target_n', 'stack', 'pred', 'pred_min_max'])\n"
     ]
    },
    {
     "name": "stderr",
     "output_type": "stream",
     "text": [
      "\n"
     ]
    },
    {
     "name": "stdout",
     "output_type": "stream",
     "text": [
      "<KeysViewHDF5 ['pred_s_runs_0', 'target_s_runs_0']>\n",
      "1\n"
     ]
    },
    {
     "name": "stderr",
     "output_type": "stream",
     "text": [
      "  9%|▉         | 1/11 [00:00<00:05,  1.74it/s]"
     ]
    },
    {
     "name": "stdout",
     "output_type": "stream",
     "text": [
      "dict_keys(['inps', 'target', 'target_n', 'stack', 'pred', 'pred_min_max'])\n"
     ]
    },
    {
     "name": "stderr",
     "output_type": "stream",
     "text": [
      " 18%|█▊        | 2/11 [00:01<00:05,  1.70it/s]"
     ]
    },
    {
     "name": "stdout",
     "output_type": "stream",
     "text": [
      "dict_keys(['inps', 'target', 'target_n', 'stack', 'pred', 'pred_min_max'])\n"
     ]
    },
    {
     "name": "stderr",
     "output_type": "stream",
     "text": [
      " 27%|██▋       | 3/11 [00:01<00:04,  1.67it/s]"
     ]
    },
    {
     "name": "stdout",
     "output_type": "stream",
     "text": [
      "dict_keys(['inps', 'target', 'target_n', 'stack', 'pred', 'pred_min_max'])\n"
     ]
    },
    {
     "name": "stderr",
     "output_type": "stream",
     "text": [
      " 36%|███▋      | 4/11 [00:02<00:04,  1.65it/s]"
     ]
    },
    {
     "name": "stdout",
     "output_type": "stream",
     "text": [
      "dict_keys(['inps', 'target', 'target_n', 'stack', 'pred', 'pred_min_max'])\n"
     ]
    },
    {
     "name": "stderr",
     "output_type": "stream",
     "text": [
      " 45%|████▌     | 5/11 [00:03<00:03,  1.63it/s]"
     ]
    },
    {
     "name": "stdout",
     "output_type": "stream",
     "text": [
      "dict_keys(['inps', 'target', 'target_n', 'stack', 'pred', 'pred_min_max'])\n"
     ]
    },
    {
     "name": "stderr",
     "output_type": "stream",
     "text": [
      " 55%|█████▍    | 6/11 [00:03<00:03,  1.63it/s]"
     ]
    },
    {
     "name": "stdout",
     "output_type": "stream",
     "text": [
      "dict_keys(['inps', 'target', 'target_n', 'stack', 'pred', 'pred_min_max'])\n"
     ]
    },
    {
     "name": "stderr",
     "output_type": "stream",
     "text": [
      " 64%|██████▎   | 7/11 [00:04<00:02,  1.63it/s]"
     ]
    },
    {
     "name": "stdout",
     "output_type": "stream",
     "text": [
      "dict_keys(['inps', 'target', 'target_n', 'stack', 'pred', 'pred_min_max'])\n"
     ]
    },
    {
     "name": "stderr",
     "output_type": "stream",
     "text": [
      " 73%|███████▎  | 8/11 [00:04<00:01,  1.62it/s]"
     ]
    },
    {
     "name": "stdout",
     "output_type": "stream",
     "text": [
      "dict_keys(['inps', 'target', 'target_n', 'stack', 'pred', 'pred_min_max'])\n"
     ]
    },
    {
     "name": "stderr",
     "output_type": "stream",
     "text": [
      " 82%|████████▏ | 9/11 [00:05<00:01,  1.61it/s]"
     ]
    },
    {
     "name": "stdout",
     "output_type": "stream",
     "text": [
      "dict_keys(['inps', 'target', 'target_n', 'stack', 'pred', 'pred_min_max'])\n"
     ]
    },
    {
     "name": "stderr",
     "output_type": "stream",
     "text": [
      " 91%|█████████ | 10/11 [00:06<00:00,  1.63it/s]"
     ]
    },
    {
     "name": "stdout",
     "output_type": "stream",
     "text": [
      "dict_keys(['inps', 'target', 'target_n', 'stack', 'pred', 'pred_min_max'])\n"
     ]
    },
    {
     "name": "stderr",
     "output_type": "stream",
     "text": [
      "100%|██████████| 11/11 [00:06<00:00,  1.67it/s]"
     ]
    },
    {
     "name": "stdout",
     "output_type": "stream",
     "text": [
      "dict_keys(['inps', 'target', 'target_n', 'stack', 'pred', 'pred_min_max'])\n"
     ]
    },
    {
     "name": "stderr",
     "output_type": "stream",
     "text": [
      "\n"
     ]
    },
    {
     "name": "stdout",
     "output_type": "stream",
     "text": [
      "<KeysViewHDF5 ['pred_s_runs_0', 'pred_s_runs_1', 'target_s_runs_0', 'target_s_runs_1']>\n",
      "2\n"
     ]
    },
    {
     "name": "stderr",
     "output_type": "stream",
     "text": [
      "  9%|▉         | 1/11 [00:00<00:05,  1.72it/s]"
     ]
    },
    {
     "name": "stdout",
     "output_type": "stream",
     "text": [
      "dict_keys(['inps', 'target', 'target_n', 'stack', 'pred', 'pred_min_max'])\n"
     ]
    },
    {
     "name": "stderr",
     "output_type": "stream",
     "text": [
      " 18%|█▊        | 2/11 [00:01<00:05,  1.67it/s]"
     ]
    },
    {
     "name": "stdout",
     "output_type": "stream",
     "text": [
      "dict_keys(['inps', 'target', 'target_n', 'stack', 'pred', 'pred_min_max'])\n"
     ]
    },
    {
     "name": "stderr",
     "output_type": "stream",
     "text": [
      " 27%|██▋       | 3/11 [00:01<00:04,  1.61it/s]"
     ]
    },
    {
     "name": "stdout",
     "output_type": "stream",
     "text": [
      "dict_keys(['inps', 'target', 'target_n', 'stack', 'pred', 'pred_min_max'])\n"
     ]
    },
    {
     "name": "stderr",
     "output_type": "stream",
     "text": [
      " 36%|███▋      | 4/11 [00:02<00:04,  1.64it/s]"
     ]
    },
    {
     "name": "stdout",
     "output_type": "stream",
     "text": [
      "dict_keys(['inps', 'target', 'target_n', 'stack', 'pred', 'pred_min_max'])\n"
     ]
    },
    {
     "name": "stderr",
     "output_type": "stream",
     "text": [
      " 45%|████▌     | 5/11 [00:03<00:03,  1.66it/s]"
     ]
    },
    {
     "name": "stdout",
     "output_type": "stream",
     "text": [
      "dict_keys(['inps', 'target', 'target_n', 'stack', 'pred', 'pred_min_max'])\n"
     ]
    },
    {
     "name": "stderr",
     "output_type": "stream",
     "text": [
      " 55%|█████▍    | 6/11 [00:05<00:05,  1.10s/it]"
     ]
    },
    {
     "name": "stdout",
     "output_type": "stream",
     "text": [
      "dict_keys(['inps', 'target', 'target_n', 'stack', 'pred', 'pred_min_max'])\n"
     ]
    },
    {
     "name": "stderr",
     "output_type": "stream",
     "text": [
      " 64%|██████▎   | 7/11 [00:07<00:05,  1.43s/it]"
     ]
    },
    {
     "name": "stdout",
     "output_type": "stream",
     "text": [
      "dict_keys(['inps', 'target', 'target_n', 'stack', 'pred', 'pred_min_max'])\n"
     ]
    },
    {
     "name": "stderr",
     "output_type": "stream",
     "text": [
      " 73%|███████▎  | 8/11 [00:08<00:04,  1.53s/it]"
     ]
    },
    {
     "name": "stdout",
     "output_type": "stream",
     "text": [
      "dict_keys(['inps', 'target', 'target_n', 'stack', 'pred', 'pred_min_max'])\n"
     ]
    },
    {
     "name": "stderr",
     "output_type": "stream",
     "text": [
      " 82%|████████▏ | 9/11 [00:11<00:03,  1.82s/it]"
     ]
    },
    {
     "name": "stdout",
     "output_type": "stream",
     "text": [
      "dict_keys(['inps', 'target', 'target_n', 'stack', 'pred', 'pred_min_max'])\n"
     ]
    },
    {
     "name": "stderr",
     "output_type": "stream",
     "text": [
      " 91%|█████████ | 10/11 [00:12<00:01,  1.50s/it]"
     ]
    },
    {
     "name": "stdout",
     "output_type": "stream",
     "text": [
      "dict_keys(['inps', 'target', 'target_n', 'stack', 'pred', 'pred_min_max'])\n"
     ]
    },
    {
     "name": "stderr",
     "output_type": "stream",
     "text": [
      "100%|██████████| 11/11 [00:12<00:00,  1.16s/it]"
     ]
    },
    {
     "name": "stdout",
     "output_type": "stream",
     "text": [
      "dict_keys(['inps', 'target', 'target_n', 'stack', 'pred', 'pred_min_max'])\n"
     ]
    },
    {
     "name": "stderr",
     "output_type": "stream",
     "text": [
      "\n"
     ]
    },
    {
     "name": "stdout",
     "output_type": "stream",
     "text": [
      "<KeysViewHDF5 ['pred_s_runs_0', 'pred_s_runs_1', 'pred_s_runs_2', 'target_s_runs_0', 'target_s_runs_1', 'target_s_runs_2']>\n",
      "['./preds_res_outa/ddpm_50/run1/**.npy', './preds_res_outa/ddpm_50/run2/**.npy', './preds_res_outa/ddpm_50/run3/**.npy']\n",
      "ddpm_50\n",
      "0\n"
     ]
    },
    {
     "name": "stderr",
     "output_type": "stream",
     "text": [
      "  9%|▉         | 1/11 [00:00<00:08,  1.15it/s]"
     ]
    },
    {
     "name": "stdout",
     "output_type": "stream",
     "text": [
      "dict_keys(['inps', 'target', 'target_n', 'stack', 'pred', 'pred_min_max'])\n"
     ]
    },
    {
     "name": "stderr",
     "output_type": "stream",
     "text": [
      " 18%|█▊        | 2/11 [00:01<00:07,  1.18it/s]"
     ]
    },
    {
     "name": "stdout",
     "output_type": "stream",
     "text": [
      "dict_keys(['inps', 'target', 'target_n', 'stack', 'pred', 'pred_min_max'])\n"
     ]
    },
    {
     "name": "stderr",
     "output_type": "stream",
     "text": [
      " 27%|██▋       | 3/11 [00:02<00:06,  1.17it/s]"
     ]
    },
    {
     "name": "stdout",
     "output_type": "stream",
     "text": [
      "dict_keys(['inps', 'target', 'target_n', 'stack', 'pred', 'pred_min_max'])\n"
     ]
    },
    {
     "name": "stderr",
     "output_type": "stream",
     "text": [
      " 36%|███▋      | 4/11 [00:03<00:06,  1.16it/s]"
     ]
    },
    {
     "name": "stdout",
     "output_type": "stream",
     "text": [
      "dict_keys(['inps', 'target', 'target_n', 'stack', 'pred', 'pred_min_max'])\n"
     ]
    },
    {
     "name": "stderr",
     "output_type": "stream",
     "text": [
      " 45%|████▌     | 5/11 [00:04<00:04,  1.20it/s]"
     ]
    },
    {
     "name": "stdout",
     "output_type": "stream",
     "text": [
      "dict_keys(['inps', 'target', 'target_n', 'stack', 'pred', 'pred_min_max'])\n"
     ]
    },
    {
     "name": "stderr",
     "output_type": "stream",
     "text": [
      " 55%|█████▍    | 6/11 [00:05<00:04,  1.22it/s]"
     ]
    },
    {
     "name": "stdout",
     "output_type": "stream",
     "text": [
      "dict_keys(['inps', 'target', 'target_n', 'stack', 'pred', 'pred_min_max'])\n"
     ]
    },
    {
     "name": "stderr",
     "output_type": "stream",
     "text": [
      " 64%|██████▎   | 7/11 [00:05<00:03,  1.23it/s]"
     ]
    },
    {
     "name": "stdout",
     "output_type": "stream",
     "text": [
      "dict_keys(['inps', 'target', 'target_n', 'stack', 'pred', 'pred_min_max'])\n"
     ]
    },
    {
     "name": "stderr",
     "output_type": "stream",
     "text": [
      " 73%|███████▎  | 8/11 [00:06<00:02,  1.20it/s]"
     ]
    },
    {
     "name": "stdout",
     "output_type": "stream",
     "text": [
      "dict_keys(['inps', 'target', 'target_n', 'stack', 'pred', 'pred_min_max'])\n"
     ]
    },
    {
     "name": "stderr",
     "output_type": "stream",
     "text": [
      " 82%|████████▏ | 9/11 [00:07<00:01,  1.19it/s]"
     ]
    },
    {
     "name": "stdout",
     "output_type": "stream",
     "text": [
      "dict_keys(['inps', 'target', 'target_n', 'stack', 'pred', 'pred_min_max'])\n"
     ]
    },
    {
     "name": "stderr",
     "output_type": "stream",
     "text": [
      " 91%|█████████ | 10/11 [00:08<00:00,  1.18it/s]"
     ]
    },
    {
     "name": "stdout",
     "output_type": "stream",
     "text": [
      "dict_keys(['inps', 'target', 'target_n', 'stack', 'pred', 'pred_min_max'])\n"
     ]
    },
    {
     "name": "stderr",
     "output_type": "stream",
     "text": [
      "100%|██████████| 11/11 [00:09<00:00,  1.21it/s]"
     ]
    },
    {
     "name": "stdout",
     "output_type": "stream",
     "text": [
      "dict_keys(['inps', 'target', 'target_n', 'stack', 'pred', 'pred_min_max'])\n"
     ]
    },
    {
     "name": "stderr",
     "output_type": "stream",
     "text": [
      "\n"
     ]
    },
    {
     "name": "stdout",
     "output_type": "stream",
     "text": [
      "<KeysViewHDF5 ['pred_s_runs_0', 'target_s_runs_0']>\n",
      "1\n"
     ]
    },
    {
     "name": "stderr",
     "output_type": "stream",
     "text": [
      "  9%|▉         | 1/11 [00:01<00:17,  1.76s/it]"
     ]
    },
    {
     "name": "stdout",
     "output_type": "stream",
     "text": [
      "dict_keys(['inps', 'target', 'target_n', 'stack', 'pred', 'pred_min_max'])\n"
     ]
    },
    {
     "name": "stderr",
     "output_type": "stream",
     "text": [
      " 18%|█▊        | 2/11 [00:02<00:12,  1.36s/it]"
     ]
    },
    {
     "name": "stdout",
     "output_type": "stream",
     "text": [
      "dict_keys(['inps', 'target', 'target_n', 'stack', 'pred', 'pred_min_max'])\n"
     ]
    },
    {
     "name": "stderr",
     "output_type": "stream",
     "text": [
      " 27%|██▋       | 3/11 [00:03<00:08,  1.11s/it]"
     ]
    },
    {
     "name": "stdout",
     "output_type": "stream",
     "text": [
      "dict_keys(['inps', 'target', 'target_n', 'stack', 'pred', 'pred_min_max'])\n"
     ]
    },
    {
     "name": "stderr",
     "output_type": "stream",
     "text": [
      " 36%|███▋      | 4/11 [00:04<00:08,  1.18s/it]"
     ]
    },
    {
     "name": "stdout",
     "output_type": "stream",
     "text": [
      "dict_keys(['inps', 'target', 'target_n', 'stack', 'pred', 'pred_min_max'])\n"
     ]
    },
    {
     "name": "stderr",
     "output_type": "stream",
     "text": [
      " 45%|████▌     | 5/11 [00:05<00:06,  1.07s/it]"
     ]
    },
    {
     "name": "stdout",
     "output_type": "stream",
     "text": [
      "dict_keys(['inps', 'target', 'target_n', 'stack', 'pred', 'pred_min_max'])\n"
     ]
    },
    {
     "name": "stderr",
     "output_type": "stream",
     "text": [
      " 55%|█████▍    | 6/11 [00:06<00:05,  1.02s/it]"
     ]
    },
    {
     "name": "stdout",
     "output_type": "stream",
     "text": [
      "dict_keys(['inps', 'target', 'target_n', 'stack', 'pred', 'pred_min_max'])\n"
     ]
    },
    {
     "name": "stderr",
     "output_type": "stream",
     "text": [
      " 64%|██████▎   | 7/11 [00:07<00:03,  1.03it/s]"
     ]
    },
    {
     "name": "stdout",
     "output_type": "stream",
     "text": [
      "dict_keys(['inps', 'target', 'target_n', 'stack', 'pred', 'pred_min_max'])\n"
     ]
    },
    {
     "name": "stderr",
     "output_type": "stream",
     "text": [
      " 73%|███████▎  | 8/11 [00:08<00:02,  1.08it/s]"
     ]
    },
    {
     "name": "stdout",
     "output_type": "stream",
     "text": [
      "dict_keys(['inps', 'target', 'target_n', 'stack', 'pred', 'pred_min_max'])\n"
     ]
    },
    {
     "name": "stderr",
     "output_type": "stream",
     "text": [
      " 82%|████████▏ | 9/11 [00:09<00:01,  1.10it/s]"
     ]
    },
    {
     "name": "stdout",
     "output_type": "stream",
     "text": [
      "dict_keys(['inps', 'target', 'target_n', 'stack', 'pred', 'pred_min_max'])\n"
     ]
    },
    {
     "name": "stderr",
     "output_type": "stream",
     "text": [
      " 91%|█████████ | 10/11 [00:10<00:00,  1.11it/s]"
     ]
    },
    {
     "name": "stdout",
     "output_type": "stream",
     "text": [
      "dict_keys(['inps', 'target', 'target_n', 'stack', 'pred', 'pred_min_max'])\n"
     ]
    },
    {
     "name": "stderr",
     "output_type": "stream",
     "text": [
      "100%|██████████| 11/11 [00:10<00:00,  1.00it/s]"
     ]
    },
    {
     "name": "stdout",
     "output_type": "stream",
     "text": [
      "dict_keys(['inps', 'target', 'target_n', 'stack', 'pred', 'pred_min_max'])\n"
     ]
    },
    {
     "name": "stderr",
     "output_type": "stream",
     "text": [
      "\n"
     ]
    },
    {
     "name": "stdout",
     "output_type": "stream",
     "text": [
      "<KeysViewHDF5 ['pred_s_runs_0', 'pred_s_runs_1', 'target_s_runs_0', 'target_s_runs_1']>\n",
      "2\n"
     ]
    },
    {
     "name": "stderr",
     "output_type": "stream",
     "text": [
      "  9%|▉         | 1/11 [00:00<00:07,  1.31it/s]"
     ]
    },
    {
     "name": "stdout",
     "output_type": "stream",
     "text": [
      "dict_keys(['inps', 'target', 'target_n', 'stack', 'pred', 'pred_min_max'])\n"
     ]
    },
    {
     "name": "stderr",
     "output_type": "stream",
     "text": [
      " 18%|█▊        | 2/11 [00:01<00:06,  1.30it/s]"
     ]
    },
    {
     "name": "stdout",
     "output_type": "stream",
     "text": [
      "dict_keys(['inps', 'target', 'target_n', 'stack', 'pred', 'pred_min_max'])\n"
     ]
    },
    {
     "name": "stderr",
     "output_type": "stream",
     "text": [
      " 27%|██▋       | 3/11 [00:02<00:06,  1.31it/s]"
     ]
    },
    {
     "name": "stdout",
     "output_type": "stream",
     "text": [
      "dict_keys(['inps', 'target', 'target_n', 'stack', 'pred', 'pred_min_max'])\n"
     ]
    },
    {
     "name": "stderr",
     "output_type": "stream",
     "text": [
      " 36%|███▋      | 4/11 [00:03<00:05,  1.30it/s]"
     ]
    },
    {
     "name": "stdout",
     "output_type": "stream",
     "text": [
      "dict_keys(['inps', 'target', 'target_n', 'stack', 'pred', 'pred_min_max'])\n"
     ]
    },
    {
     "name": "stderr",
     "output_type": "stream",
     "text": [
      " 45%|████▌     | 5/11 [00:04<00:05,  1.17it/s]"
     ]
    },
    {
     "name": "stdout",
     "output_type": "stream",
     "text": [
      "dict_keys(['inps', 'target', 'target_n', 'stack', 'pred', 'pred_min_max'])\n"
     ]
    },
    {
     "name": "stderr",
     "output_type": "stream",
     "text": [
      " 55%|█████▍    | 6/11 [00:04<00:04,  1.16it/s]"
     ]
    },
    {
     "name": "stdout",
     "output_type": "stream",
     "text": [
      "dict_keys(['inps', 'target', 'target_n', 'stack', 'pred', 'pred_min_max'])\n"
     ]
    },
    {
     "name": "stderr",
     "output_type": "stream",
     "text": [
      " 64%|██████▎   | 7/11 [00:05<00:03,  1.20it/s]"
     ]
    },
    {
     "name": "stdout",
     "output_type": "stream",
     "text": [
      "dict_keys(['inps', 'target', 'target_n', 'stack', 'pred', 'pred_min_max'])\n"
     ]
    },
    {
     "name": "stderr",
     "output_type": "stream",
     "text": [
      " 73%|███████▎  | 8/11 [00:06<00:02,  1.05it/s]"
     ]
    },
    {
     "name": "stdout",
     "output_type": "stream",
     "text": [
      "dict_keys(['inps', 'target', 'target_n', 'stack', 'pred', 'pred_min_max'])\n"
     ]
    },
    {
     "name": "stderr",
     "output_type": "stream",
     "text": [
      " 82%|████████▏ | 9/11 [00:07<00:01,  1.12it/s]"
     ]
    },
    {
     "name": "stdout",
     "output_type": "stream",
     "text": [
      "dict_keys(['inps', 'target', 'target_n', 'stack', 'pred', 'pred_min_max'])\n"
     ]
    },
    {
     "name": "stderr",
     "output_type": "stream",
     "text": [
      " 91%|█████████ | 10/11 [00:08<00:00,  1.16it/s]"
     ]
    },
    {
     "name": "stdout",
     "output_type": "stream",
     "text": [
      "dict_keys(['inps', 'target', 'target_n', 'stack', 'pred', 'pred_min_max'])\n"
     ]
    },
    {
     "name": "stderr",
     "output_type": "stream",
     "text": [
      "100%|██████████| 11/11 [00:09<00:00,  1.20it/s]"
     ]
    },
    {
     "name": "stdout",
     "output_type": "stream",
     "text": [
      "dict_keys(['inps', 'target', 'target_n', 'stack', 'pred', 'pred_min_max'])\n"
     ]
    },
    {
     "name": "stderr",
     "output_type": "stream",
     "text": [
      "\n"
     ]
    },
    {
     "name": "stdout",
     "output_type": "stream",
     "text": [
      "<KeysViewHDF5 ['pred_s_runs_0', 'pred_s_runs_1', 'pred_s_runs_2', 'target_s_runs_0', 'target_s_runs_1', 'target_s_runs_2']>\n",
      "Done\n"
     ]
    }
   ],
   "source": [
    "for i in (range(len(file_list))):#sampling timesteps\n",
    "    l=file_list[i]\n",
    "    print(l)\n",
    "    name=l[0].split(\"/\")[-3]\n",
    "    print(name)\n",
    "    hhh=h5py.File(\"./preds_res_outa/un_norm/results_hyper_64_unnorm_\"+str(name)+\"_runs.hdf5\", \"w\")\n",
    "    hhh.close()\n",
    "\n",
    "    for j in (range(len(l))): #runs\n",
    "        print(j)\n",
    "        npys=glob2.glob(l[j])\n",
    "\n",
    "        pred_s_list_runs=[]\n",
    "        target_s_list_runs=[]\n",
    "\n",
    "        for k in tqdm(npys):\n",
    "            # print(k)\n",
    "            data=np.load(k,allow_pickle=True)[()]\n",
    "            print(data.keys())\n",
    "\n",
    "            pred=data[\"pred\"]\n",
    "            target=data[\"target\"]\n",
    "            target_n=data[\"target_n\"]\n",
    "            scale=data[\"pred_min_max\"]\n",
    "\n",
    "            pred_un=unnormalize(pred)\n",
    "            pred_scaled=re_scale(pred_un,scale)\n",
    "\n",
    "            \n",
    "\n",
    "            # pred_s_list_runs.append(pred_scaled)\n",
    "            # target_s_list_runs.append(target)\n",
    "            pred_s_list_runs.append(pred)\n",
    "            target_s_list_runs.append(target_n)\n",
    "\n",
    "        pred_s_list_runs=np.array(pred_s_list_runs)\n",
    "        target_s_list_runs=np.array(target_s_list_runs)\n",
    "\n",
    "        pred_s_list_runs_c=[]\n",
    "        for g in pred_s_list_runs:\n",
    "            for h in g:\n",
    "                pred_s_list_runs_c.append(h)\n",
    "\n",
    "        target_s_list_runs_c=[]\n",
    "        for g in target_s_list_runs:\n",
    "            for h in g:\n",
    "                target_s_list_runs_c.append(h)\n",
    "\n",
    "        with h5py.File(\"./preds_res_outa/un_norm/results_hyper_64_unnorm_\"+str(name)+\"_runs.hdf5\", \"a\") as f:\n",
    "            f.create_dataset(\"pred_s_runs_\"+str(j), data=pred_s_list_runs_c,compression=\"gzip\",compression_opts=5)\n",
    "            f.create_dataset(\"target_s_runs_\"+str(j), data=target_s_list_runs_c,compression=\"gzip\",compression_opts=5)\n",
    "            f.close()\n",
    "        \n",
    "        with h5py.File(\"./preds_res_outa/un_norm/results_hyper_64_unnorm_\"+str(name)+\"_runs.hdf5\", \"r\") as f:\n",
    "            print(f.keys())\n",
    "            f.close()\n",
    "\n",
    "print(\"Done\")"
   ]
  },
  {
   "cell_type": "code",
   "execution_count": null,
   "metadata": {},
   "outputs": [],
   "source": []
  }
 ],
 "metadata": {
  "kernelspec": {
   "display_name": "yaya2",
   "language": "python",
   "name": "python3"
  },
  "language_info": {
   "codemirror_mode": {
    "name": "ipython",
    "version": 3
   },
   "file_extension": ".py",
   "mimetype": "text/x-python",
   "name": "python",
   "nbconvert_exporter": "python",
   "pygments_lexer": "ipython3",
   "version": "3.8.16"
  },
  "orig_nbformat": 4,
  "vscode": {
   "interpreter": {
    "hash": "371a8aaa2906188a87f5642534b61470cb9bb6e1034b51bf92735a98fd311320"
   }
  }
 },
 "nbformat": 4,
 "nbformat_minor": 2
}
