{
 "cells": [
  {
   "cell_type": "code",
   "execution_count": 1,
   "metadata": {},
   "outputs": [
    {
     "name": "stdout",
     "output_type": "stream",
     "text": [
      "1\n"
     ]
    },
    {
     "data": {
      "application/vnd.jupyter.widget-view+json": {
       "model_id": "e05702a1e9294fae82180225d58386ce",
       "version_major": 2,
       "version_minor": 0
      },
      "text/plain": [
       "Widget(value=\"<iframe src='http://localhost:46029/index.html?ui=P_0x7f2131600190_0&reconnect=auto' style='widt…"
      ]
     },
     "metadata": {},
     "output_type": "display_data"
    }
   ],
   "source": [
    "from utils import *\n",
    "from fenics import *\n",
    "from dolfin import *\n",
    "import pyvista as pv\n",
    "import fenics as fe\n",
    "\n",
    "m,p=make_mesh(center=(0.5,0.5,-0.5),radius=0.3,normal=(0.1,0.5,1),n_sides=5)\n",
    "#number of bodies in m\n",
    "print(len(m.split_bodies()))\n",
    "\n",
    "save_xdmf(m)\n",
    "\n",
    "pp=pv.Plotter()\n",
    "pp.add_mesh(m,show_edges=True)\n",
    "pp.add_mesh(p,show_edges=True)\n",
    "pp.show()"
   ]
  },
  {
   "cell_type": "code",
   "execution_count": 86,
   "metadata": {},
   "outputs": [
    {
     "ename": "RuntimeError",
     "evalue": "\n\n*** -------------------------------------------------------------------------\n*** DOLFIN encountered an error. If you are not able to resolve this issue\n*** using the information listed below, you can ask for help at\n***\n***     fenics-support@googlegroups.com\n***\n*** Remember to include the error message listed below and, if possible,\n*** include a *minimal* running example to reproduce the error.\n***\n*** -------------------------------------------------------------------------\n*** Error:   Unable to create Dirichlet boundary condition.\n*** Reason:  Illegal value dimension (2), expecting (3).\n*** Where:   This error was encountered inside DirichletBC.cpp.\n*** Process: 0\n*** \n*** DOLFIN version: 2019.1.0\n*** Git changeset:  12ef077802cc9fad34cf984ec7af80585b44301b\n*** -------------------------------------------------------------------------\n",
     "output_type": "error",
     "traceback": [
      "\u001b[0;31m---------------------------------------------------------------------------\u001b[0m",
      "\u001b[0;31mRuntimeError\u001b[0m                              Traceback (most recent call last)",
      "Cell \u001b[0;32mIn[86], line 5\u001b[0m\n\u001b[1;32m      3\u001b[0m f\u001b[39m.\u001b[39mread(mesh_l)\n\u001b[1;32m      4\u001b[0m mesh_l\n\u001b[0;32m----> 5\u001b[0m simulate(mesh_l,plot_displacement\u001b[39m=\u001b[39;49m\u001b[39mTrue\u001b[39;49;00m,plot_stress\u001b[39m=\u001b[39;49m\n\u001b[1;32m      6\u001b[0m \u001b[39mTrue\u001b[39;49;00m,plot_mesh\u001b[39m=\u001b[39;49m\u001b[39mTrue\u001b[39;49;00m,E\u001b[39m=\u001b[39;49m\u001b[39m20e5\u001b[39;49m,mu\u001b[39m=\u001b[39;49m\u001b[39m10e5\u001b[39;49m,rho_0\u001b[39m=\u001b[39;49m\u001b[39m200.0\u001b[39;49m,g_int\u001b[39m=\u001b[39;49m\u001b[39m1000\u001b[39;49m,b_int\u001b[39m=\u001b[39;49m\u001b[39m-\u001b[39;49m\u001b[39m100\u001b[39;49m)\n",
      "File \u001b[0;32m/media/cmu/data/StressD/revsion/utils.py:101\u001b[0m, in \u001b[0;36msimulate\u001b[0;34m(mesh, plot_mesh, plot_displacement, plot_stress, E, mu, rho_0, g_int, b_int)\u001b[0m\n\u001b[1;32m     96\u001b[0m aa, bb, cc, dd, ee \u001b[39m=\u001b[39m \u001b[39m0.5\u001b[39m\u001b[39m*\u001b[39mmu, \u001b[39m0.0\u001b[39m, \u001b[39m0.0\u001b[39m, mu, \u001b[39m-\u001b[39m\u001b[39m1.5\u001b[39m\u001b[39m*\u001b[39mmu\n\u001b[1;32m     98\u001b[0m \u001b[39m# --------------------\u001b[39;00m\n\u001b[1;32m     99\u001b[0m \u001b[39m# Boundary conditions\u001b[39;00m\n\u001b[1;32m    100\u001b[0m \u001b[39m# --------------------\u001b[39;00m\n\u001b[0;32m--> 101\u001b[0m bc \u001b[39m=\u001b[39m fe\u001b[39m.\u001b[39;49mDirichletBC(V, fe\u001b[39m.\u001b[39;49mConstant((\u001b[39m0.0\u001b[39;49m, \u001b[39m0.0\u001b[39;49m)), bottom)\n\u001b[1;32m    103\u001b[0m \u001b[39m# --------------------\u001b[39;00m\n\u001b[1;32m    104\u001b[0m \u001b[39m# Weak form\u001b[39;00m\n\u001b[1;32m    105\u001b[0m \u001b[39m# --------------------\u001b[39;00m\n\u001b[1;32m    106\u001b[0m I \u001b[39m=\u001b[39m fe\u001b[39m.\u001b[39mIdentity(\u001b[39m2\u001b[39m)\n",
      "File \u001b[0;32m~/anaconda3/envs/fenicsproject/lib/python3.11/site-packages/dolfin/fem/dirichletbc.py:131\u001b[0m, in \u001b[0;36mDirichletBC.__init__\u001b[0;34m(self, *args, **kwargs)\u001b[0m\n\u001b[1;32m    128\u001b[0m \u001b[39mif\u001b[39;00m (\u001b[39mlen\u001b[39m(kwargs) \u001b[39m>\u001b[39m \u001b[39m0\u001b[39m):\n\u001b[1;32m    129\u001b[0m     \u001b[39mraise\u001b[39;00m \u001b[39mRuntimeError\u001b[39;00m(\u001b[39m\"\u001b[39m\u001b[39mInvalid keyword arguments\u001b[39m\u001b[39m\"\u001b[39m, kwargs)\n\u001b[0;32m--> 131\u001b[0m \u001b[39msuper\u001b[39;49m()\u001b[39m.\u001b[39;49m\u001b[39m__init__\u001b[39;49m(\u001b[39m*\u001b[39;49margs)\n",
      "\u001b[0;31mRuntimeError\u001b[0m: \n\n*** -------------------------------------------------------------------------\n*** DOLFIN encountered an error. If you are not able to resolve this issue\n*** using the information listed below, you can ask for help at\n***\n***     fenics-support@googlegroups.com\n***\n*** Remember to include the error message listed below and, if possible,\n*** include a *minimal* running example to reproduce the error.\n***\n*** -------------------------------------------------------------------------\n*** Error:   Unable to create Dirichlet boundary condition.\n*** Reason:  Illegal value dimension (2), expecting (3).\n*** Where:   This error was encountered inside DirichletBC.cpp.\n*** Process: 0\n*** \n*** DOLFIN version: 2019.1.0\n*** Git changeset:  12ef077802cc9fad34cf984ec7af80585b44301b\n*** -------------------------------------------------------------------------\n"
     ]
    }
   ],
   "source": [
    "f = XDMFFile('m_t.xdmf')\n",
    "mesh_l=Mesh()\n",
    "f.read(mesh_l)\n",
    "mesh_l\n",
    "simulate(mesh_l,plot_displacement=True,plot_stress=\n",
    "True,plot_mesh=True,E=20e5,mu=10e5,rho_0=200.0,g_int=1000,b_int=-100)"
   ]
  },
  {
   "cell_type": "code",
   "execution_count": 85,
   "metadata": {},
   "outputs": [
    {
     "data": {
      "text/plain": [
       "<matplotlib.colorbar.Colorbar at 0x7f91782e4450>"
      ]
     },
     "execution_count": 85,
     "metadata": {},
     "output_type": "execute_result"
    },
    {
     "data": {
      "image/png": "[encoded data removed]",
      "text/plain": [
       "<Figure size 640x480 with 2 Axes>"
      ]
     },
     "metadata": {},
     "output_type": "display_data"
    }
   ],
   "source": [
    "x = np.linspace(0, 1, 65)\n",
    "y = np.linspace(0, 1, 65)\n",
    "x, y = np.meshgrid(y, x)\n",
    "z = np.zeros_like(x)\n",
    "grid = pv.StructuredGrid(y, x, z)\n",
    "res_von = pv.read(\"von_Mises.pvd\")\n",
    "# res_von[\"Block-00\"].plot()\n",
    "\n",
    "grid_with_val = grid.interpolate(res_von[\"Block-00\"],strategy=\"closest_point\")\n",
    "res_von[\"Block-00\"].array_names[0]\n",
    "\n",
    "# von_val = grid_with_val[\"f_144\"].reshape((33, 33))\n",
    "vv=grid_with_val[res_von[\"Block-00\"].array_names[0]].reshape((65, 65))\n",
    "vv=np.array(vv)\n",
    "plt.imshow(vv,origin=\"lower\")\n",
    "plt.colorbar()"
   ]
  },
  {
   "cell_type": "code",
   "execution_count": 9,
   "metadata": {},
   "outputs": [
    {
     "data": {
      "text/plain": [
       "(31906.620416723264, 119.88604933374933)"
      ]
     },
     "execution_count": 9,
     "metadata": {},
     "output_type": "execute_result"
    }
   ],
   "source": [
    "vv.max(),vv.min()\n",
    "\n"
   ]
  },
  {
   "cell_type": "code",
   "execution_count": 10,
   "metadata": {},
   "outputs": [
    {
     "data": {
      "text/plain": [
       "(119.88604933374933, 31906.620416723264)"
      ]
     },
     "execution_count": 10,
     "metadata": {},
     "output_type": "execute_result"
    }
   ],
   "source": [
    "grid_with_val[res_von[\"Block-00\"].array_names[0]].min(),grid_with_val[res_von[\"Block-00\"].array_names[0]].max()"
   ]
  },
  {
   "cell_type": "code",
   "execution_count": 11,
   "metadata": {},
   "outputs": [
    {
     "data": {
      "application/vnd.jupyter.widget-view+json": {
       "model_id": "4e75a91af4bf452da4279d6218c7957c",
       "version_major": 2,
       "version_minor": 0
      },
      "text/plain": [
       "Widget(value=\"<iframe src='http://localhost:38927/index.html?ui=P_0x7f916826bb10_2&reconnect=auto' style='widt…"
      ]
     },
     "metadata": {},
     "output_type": "display_data"
    }
   ],
   "source": [
    "grid_with_val.plot(show_edges=True)"
   ]
  },
  {
   "cell_type": "code",
   "execution_count": null,
   "metadata": {},
   "outputs": [],
   "source": []
  },
  {
   "cell_type": "code",
   "execution_count": 44,
   "metadata": {},
   "outputs": [
    {
     "data": {
      "image/png": "[encoded data removed]",
      "text/plain": [
       "<Figure size 640x480 with 2 Axes>"
      ]
     },
     "metadata": {},
     "output_type": "display_data"
    }
   ],
   "source": [
    "import matplotlib.pyplot as plt\n",
    "import numpy as np\n",
    "\n",
    "# Define function to check if a point is inside a regular polygon\n",
    "def in_polygon(x, y, center, radius, n):\n",
    "    angle = np.arctan2(y-center[1], x-center[0])\n",
    "    return np.sqrt((x-center[0])**2 + (y-center[1])**2) <= radius * np.cos(np.pi/n) / np.cos(angle % (2*np.pi/n) - np.pi/n)\n",
    "\n",
    "# Create a grid of points\n",
    "x, y = np.meshgrid(np.linspace(-1, 1, 64), np.linspace(-1, 1, 64))\n",
    "\n",
    "# Set the number of sides\n",
    "n = 6\n",
    "\n",
    "# Apply function to every point in the grid\n",
    "mask = in_polygon(x, y, center=[0, 0], radius=0.5, n=n)\n",
    "\n",
    "# Invert the mask\n",
    "inverted_mask = 1 - mask\n",
    "\n",
    "# Plot the result as an image\n",
    "plt.imshow(inverted_mask, origin='lower')\n",
    "plt.colorbar()\n",
    "plt.show()\n"
   ]
  },
  {
   "cell_type": "code",
   "execution_count": 107,
   "metadata": {},
   "outputs": [
    {
     "data": {
      "application/vnd.jupyter.widget-view+json": {
       "model_id": "17b1d944f5834c66863c2c6545375c2b",
       "version_major": 2,
       "version_minor": 0
      },
      "text/plain": [
       "Widget(value=\"<iframe src='http://localhost:38927/index.html?ui=P_0x7f9160763b50_32&reconnect=auto' style='wid…"
      ]
     },
     "metadata": {},
     "output_type": "display_data"
    },
    {
     "data": {
      "text/html": [
       "<table style='width: 100%;'><tr><th>Header</th><th>Data Arrays</th></tr><tr><td>\n",
       "<table style='width: 100%;'>\n",
       "<tr><th>PolyData</th><th>Information</th></tr>\n",
       "<tr><td>N Cells</td><td>6740</td></tr>\n",
       "<tr><td>N Points</td><td>3552</td></tr>\n",
       "<tr><td>N Strips</td><td>0</td></tr>\n",
       "<tr><td>X Bounds</td><td>0.000e+00, 0.000e+00</td></tr>\n",
       "<tr><td>Y Bounds</td><td>0.000e+00, 6.300e+01</td></tr>\n",
       "<tr><td>Z Bounds</td><td>0.000e+00, 6.300e+01</td></tr>\n",
       "<tr><td>N Arrays</td><td>3</td></tr>\n",
       "</table>\n",
       "\n",
       "</td><td>\n",
       "<table style='width: 100%;'>\n",
       "<tr><th>Name</th><th>Field</th><th>Type</th><th>N Comp</th><th>Min</th><th>Max</th></tr>\n",
       "<tr><td><b>values</b></td><td>Points</td><td>uint8</td><td>1</td><td>0.000e+00</td><td>1.000e+00</td></tr>\n",
       "<tr><td>Normals</td><td>Points</td><td>float32</td><td>3</td><td>0.000e+00</td><td>1.000e+00</td></tr>\n",
       "<tr><td>Normals</td><td>Cells</td><td>float32</td><td>3</td><td>0.000e+00</td><td>1.000e+00</td></tr>\n",
       "</table>\n",
       "\n",
       "</td></tr> </table>"
      ],
      "text/plain": [
       "PolyData (0x7f911c3954e0)\n",
       "  N Cells:    6740\n",
       "  N Points:   3552\n",
       "  N Strips:   0\n",
       "  X Bounds:   0.000e+00, 0.000e+00\n",
       "  Y Bounds:   0.000e+00, 6.300e+01\n",
       "  Z Bounds:   0.000e+00, 6.300e+01\n",
       "  N Arrays:   3"
      ]
     },
     "execution_count": 107,
     "metadata": {},
     "output_type": "execute_result"
    }
   ],
   "source": [
    "bin_img = inverted_mask\n",
    "bin_img = bin_img.astype(np.uint8)\n",
    "bin_img= bin_img[np.newaxis, :, :]\n",
    "gg=pv.wrap(bin_img)\n",
    "mesh = gg.threshold([0.5, 1.0]).triangulate()\n",
    "mesh=mesh.extract_geometry()\n",
    "\n",
    "mesh.plot(show_edges=True)\n",
    "mesh.save(\"test.ply\")\n",
    "mesh"
   ]
  },
  {
   "cell_type": "code",
   "execution_count": 108,
   "metadata": {},
   "outputs": [],
   "source": [
    "import meshio\n",
    "mesh = meshio.read(\"test.ply\")\n",
    "\n",
    "#save as xml\n",
    "\n",
    "mesh.points=mesh.points[:,:2]\n",
    "mesh.points\n",
    "meshio.write(\"test.xdmf\", mesh)"
   ]
  },
  {
   "cell_type": "code",
   "execution_count": 109,
   "metadata": {},
   "outputs": [
    {
     "data": {
      "application/vnd.jupyter.widget-view+json": {
       "model_id": "0e5278ccbc9747139cd2c8e2ffaf58b7",
       "version_major": 2,
       "version_minor": 0
      },
      "text/plain": [
       "Widget(value=\"<iframe src='http://localhost:38927/index.html?ui=P_0x7f911c4b7210_33&reconnect=auto' style='wid…"
      ]
     },
     "metadata": {},
     "output_type": "display_data"
    },
    {
     "name": "stdout",
     "output_type": "stream",
     "text": [
      " JS Error => error: Uncaught TypeError: Cannot read properties of null (reading '0')\n"
     ]
    }
   ],
   "source": [
    "nn=pv.read(\"test.xdmf\")\n",
    "nn.plot(show_edges=True)"
   ]
  },
  {
   "cell_type": "code",
   "execution_count": null,
   "metadata": {},
   "outputs": [],
   "source": []
  }
 ],
 "metadata": {
  "kernelspec": {
   "display_name": "fenicsproject",
   "language": "python",
   "name": "python3"
  },
  "language_info": {
   "codemirror_mode": {
    "name": "ipython",
    "version": 3
   },
   "file_extension": ".py",
   "mimetype": "text/x-python",
   "name": "python",
   "nbconvert_exporter": "python",
   "pygments_lexer": "ipython3",
   "version": "3.11.4"
  },
  "orig_nbformat": 4
 },
 "nbformat": 4,
 "nbformat_minor": 2
}
